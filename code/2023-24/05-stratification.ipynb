{
 "cells": [
  {
   "attachments": {},
   "cell_type": "markdown",
   "metadata": {},
   "source": [
    "# Stratification"
   ]
  },
  {
   "cell_type": "code",
   "execution_count": 9,
   "metadata": {
    "vscode": {
     "languageId": "r"
    }
   },
   "outputs": [],
   "source": [
    "# install.packages('remotes')\n",
    "# remotes::install_github(\"sdaza/sampler\")\n",
    "library(sampler)\n",
    "library(data.table)\n",
    "library(survey)"
   ]
  },
  {
   "attachments": {},
   "cell_type": "markdown",
   "metadata": {},
   "source": [
    "# `sampler` package\n",
    "\n",
    "- Allocation for stratification\n",
    "- Function to get MOE"
   ]
  },
  {
   "cell_type": "code",
   "execution_count": 3,
   "metadata": {
    "vscode": {
     "languageId": "r"
    }
   },
   "outputs": [
    {
     "data": {
      "text/html": [
       "<table class=\"dataframe\">\n",
       "<caption>A data.table: 15 × 3</caption>\n",
       "<thead>\n",
       "\t<tr><th scope=col>reg</th><th scope=col>pob</th><th scope=col>pr</th></tr>\n",
       "\t<tr><th scope=col>&lt;int&gt;</th><th scope=col>&lt;dbl&gt;</th><th scope=col>&lt;dbl&gt;</th></tr>\n",
       "</thead>\n",
       "<tbody>\n",
       "\t<tr><td> 1</td><td> 328782</td><td>0.3</td></tr>\n",
       "\t<tr><td> 2</td><td> 613328</td><td>0.4</td></tr>\n",
       "\t<tr><td> 3</td><td> 308247</td><td>0.5</td></tr>\n",
       "\t<tr><td> 4</td><td> 759228</td><td>0.5</td></tr>\n",
       "\t<tr><td> 5</td><td>1808300</td><td>0.5</td></tr>\n",
       "\t<tr><td> 6</td><td> 910577</td><td>0.6</td></tr>\n",
       "\t<tr><td> 7</td><td>1035593</td><td>0.3</td></tr>\n",
       "\t<tr><td> 8</td><td>2100494</td><td>0.1</td></tr>\n",
       "\t<tr><td> 9</td><td> 983499</td><td>0.2</td></tr>\n",
       "\t<tr><td>10</td><td> 834714</td><td>0.5</td></tr>\n",
       "\t<tr><td>11</td><td> 107334</td><td>0.5</td></tr>\n",
       "\t<tr><td>12</td><td> 163748</td><td>0.4</td></tr>\n",
       "\t<tr><td>13</td><td>7228581</td><td>0.6</td></tr>\n",
       "\t<tr><td>14</td><td> 401548</td><td>0.2</td></tr>\n",
       "\t<tr><td>15</td><td> 235081</td><td>0.3</td></tr>\n",
       "</tbody>\n",
       "</table>\n"
      ],
      "text/latex": [
       "A data.table: 15 × 3\n",
       "\\begin{tabular}{lll}\n",
       " reg & pob & pr\\\\\n",
       " <int> & <dbl> & <dbl>\\\\\n",
       "\\hline\n",
       "\t  1 &  328782 & 0.3\\\\\n",
       "\t  2 &  613328 & 0.4\\\\\n",
       "\t  3 &  308247 & 0.5\\\\\n",
       "\t  4 &  759228 & 0.5\\\\\n",
       "\t  5 & 1808300 & 0.5\\\\\n",
       "\t  6 &  910577 & 0.6\\\\\n",
       "\t  7 & 1035593 & 0.3\\\\\n",
       "\t  8 & 2100494 & 0.1\\\\\n",
       "\t  9 &  983499 & 0.2\\\\\n",
       "\t 10 &  834714 & 0.5\\\\\n",
       "\t 11 &  107334 & 0.5\\\\\n",
       "\t 12 &  163748 & 0.4\\\\\n",
       "\t 13 & 7228581 & 0.6\\\\\n",
       "\t 14 &  401548 & 0.2\\\\\n",
       "\t 15 &  235081 & 0.3\\\\\n",
       "\\end{tabular}\n"
      ],
      "text/markdown": [
       "\n",
       "A data.table: 15 × 3\n",
       "\n",
       "| reg &lt;int&gt; | pob &lt;dbl&gt; | pr &lt;dbl&gt; |\n",
       "|---|---|---|\n",
       "|  1 |  328782 | 0.3 |\n",
       "|  2 |  613328 | 0.4 |\n",
       "|  3 |  308247 | 0.5 |\n",
       "|  4 |  759228 | 0.5 |\n",
       "|  5 | 1808300 | 0.5 |\n",
       "|  6 |  910577 | 0.6 |\n",
       "|  7 | 1035593 | 0.3 |\n",
       "|  8 | 2100494 | 0.1 |\n",
       "|  9 |  983499 | 0.2 |\n",
       "| 10 |  834714 | 0.5 |\n",
       "| 11 |  107334 | 0.5 |\n",
       "| 12 |  163748 | 0.4 |\n",
       "| 13 | 7228581 | 0.6 |\n",
       "| 14 |  401548 | 0.2 |\n",
       "| 15 |  235081 | 0.3 |\n",
       "\n"
      ],
      "text/plain": [
       "   reg pob     pr \n",
       "1   1   328782 0.3\n",
       "2   2   613328 0.4\n",
       "3   3   308247 0.5\n",
       "4   4   759228 0.5\n",
       "5   5  1808300 0.5\n",
       "6   6   910577 0.6\n",
       "7   7  1035593 0.3\n",
       "8   8  2100494 0.1\n",
       "9   9   983499 0.2\n",
       "10 10   834714 0.5\n",
       "11 11   107334 0.5\n",
       "12 12   163748 0.4\n",
       "13 13  7228581 0.6\n",
       "14 14   401548 0.2\n",
       "15 15   235081 0.3"
      ]
     },
     "metadata": {},
     "output_type": "display_data"
    }
   ],
   "source": [
    "# get data \n",
    "chile = data.table(chile)\n",
    "chile"
   ]
  },
  {
   "attachments": {},
   "cell_type": "markdown",
   "metadata": {},
   "source": [
    "# Allocation strata function\n",
    "\n",
    "- For additional examples check: https://sdaza.com/blog/2015/sampler/"
   ]
  },
  {
   "attachments": {},
   "cell_type": "markdown",
   "metadata": {},
   "source": [
    "# MOE estimation\n",
    "\n",
    "- Function `serrst`"
   ]
  },
  {
   "cell_type": "code",
   "execution_count": 12,
   "metadata": {
    "vscode": {
     "languageId": "r"
    }
   },
   "outputs": [
    {
     "name": "stdout",
     "output_type": "stream",
     "text": [
      "    reg     pob  pr ssize same_pr\n",
      " 1:   1  328782 0.3    18     0.5\n",
      " 2:   2  613328 0.4    34     0.5\n",
      " 3:   3  308247 0.5    17     0.5\n",
      " 4:   4  759228 0.5    43     0.5\n",
      " 5:   5 1808300 0.5   101     0.5\n",
      " 6:   6  910577 0.6    51     0.5\n",
      " 7:   7 1035593 0.3    58     0.5\n",
      " 8:   8 2100494 0.1   118     0.5\n",
      " 9:   9  983499 0.2    55     0.5\n",
      "10:  10  834714 0.5    47     0.5\n",
      "11:  11  107334 0.5     6     0.5\n",
      "12:  12  163748 0.4     9     0.5\n",
      "13:  13 7228581 0.6   406     0.5\n",
      "14:  14  401548 0.2    23     0.5\n",
      "15:  15  235081 0.3    13     0.5\n"
     ]
    }
   ],
   "source": [
    "# proportional allocation, same variance (max) across strata\n",
    "chile[, ssize := astrata(1000, pob, wp=1)]\n",
    "chile[, same_pr := 0.5]\n",
    "print(chile)"
   ]
  },
  {
   "cell_type": "code",
   "execution_count": 13,
   "metadata": {
    "vscode": {
     "languageId": "r"
    }
   },
   "outputs": [
    {
     "data": {
      "text/html": [
       "0.031"
      ],
      "text/latex": [
       "0.031"
      ],
      "text/markdown": [
       "0.031"
      ],
      "text/plain": [
       "[1] 0.031"
      ]
     },
     "metadata": {},
     "output_type": "display_data"
    }
   ],
   "source": [
    "# STR formula\n",
    "serrst(n = chile$ssize, N = chile$pob, p = chile$same_pr)"
   ]
  },
  {
   "cell_type": "code",
   "execution_count": 14,
   "metadata": {
    "vscode": {
     "languageId": "r"
    }
   },
   "outputs": [
    {
     "data": {
      "text/html": [
       "0.031"
      ],
      "text/latex": [
       "0.031"
      ],
      "text/markdown": [
       "0.031"
      ],
      "text/plain": [
       "[1] 0.031"
      ]
     },
     "metadata": {},
     "output_type": "display_data"
    }
   ],
   "source": [
    "# using SRS formula\n",
    "serr(1000, N=sum(chile$pob), p=0.5)"
   ]
  },
  {
   "attachments": {},
   "cell_type": "markdown",
   "metadata": {},
   "source": [
    "## Fixed allocation\n"
   ]
  },
  {
   "cell_type": "code",
   "execution_count": 15,
   "metadata": {
    "vscode": {
     "languageId": "r"
    }
   },
   "outputs": [
    {
     "name": "stdout",
     "output_type": "stream",
     "text": [
      "    reg     pob  pr ssize same_pr\n",
      " 1:   1  328782 0.3    67     0.5\n",
      " 2:   2  613328 0.4    67     0.5\n",
      " 3:   3  308247 0.5    67     0.5\n",
      " 4:   4  759228 0.5    67     0.5\n",
      " 5:   5 1808300 0.5    67     0.5\n",
      " 6:   6  910577 0.6    67     0.5\n",
      " 7:   7 1035593 0.3    67     0.5\n",
      " 8:   8 2100494 0.1    67     0.5\n",
      " 9:   9  983499 0.2    67     0.5\n",
      "10:  10  834714 0.5    67     0.5\n",
      "11:  11  107334 0.5    67     0.5\n",
      "12:  12  163748 0.4    67     0.5\n",
      "13:  13 7228581 0.6    67     0.5\n",
      "14:  14  401548 0.2    67     0.5\n",
      "15:  15  235081 0.3    67     0.5\n"
     ]
    },
    {
     "data": {
      "text/html": [
       "0.0518"
      ],
      "text/latex": [
       "0.0518"
      ],
      "text/markdown": [
       "0.0518"
      ],
      "text/plain": [
       "[1] 0.0518"
      ]
     },
     "metadata": {},
     "output_type": "display_data"
    }
   ],
   "source": [
    "# fixed or simple allocation\n",
    "chile[, ssize := astrata(1000, pob, wp=0)]\n",
    "print(chile)"
   ]
  },
  {
   "cell_type": "code",
   "execution_count": 16,
   "metadata": {
    "vscode": {
     "languageId": "r"
    }
   },
   "outputs": [
    {
     "data": {
      "text/html": [
       "0.0518"
      ],
      "text/latex": [
       "0.0518"
      ],
      "text/markdown": [
       "0.0518"
      ],
      "text/plain": [
       "[1] 0.0518"
      ]
     },
     "metadata": {},
     "output_type": "display_data"
    }
   ],
   "source": [
    "serrst(n = chile$ssize, N = chile$pob, p = chile$pr)"
   ]
  },
  {
   "cell_type": "code",
   "execution_count": 17,
   "metadata": {
    "vscode": {
     "languageId": "r"
    }
   },
   "outputs": [
    {
     "data": {
      "text/html": [
       "0.0617"
      ],
      "text/latex": [
       "0.0617"
      ],
      "text/markdown": [
       "0.0617"
      ],
      "text/plain": [
       "[1] 0.0617"
      ]
     },
     "metadata": {},
     "output_type": "display_data"
    }
   ],
   "source": [
    "# let's add design effect info\n",
    "serrst(n = chile$ssize, N = chile$pob, p = chile$same_pr, deff=1.3)"
   ]
  },
  {
   "cell_type": "code",
   "execution_count": 18,
   "metadata": {
    "vscode": {
     "languageId": "r"
    }
   },
   "outputs": [
    {
     "data": {
      "text/html": [
       "769.230769230769"
      ],
      "text/latex": [
       "769.230769230769"
      ],
      "text/markdown": [
       "769.230769230769"
      ],
      "text/plain": [
       "[1] 769.2308"
      ]
     },
     "metadata": {},
     "output_type": "display_data"
    }
   ],
   "source": [
    "# effective sample size\n",
    "n = 1000\n",
    "deff = 1.3\n",
    "n / deff"
   ]
  },
  {
   "attachments": {},
   "cell_type": "markdown",
   "metadata": {},
   "source": [
    "## Error allocation"
   ]
  },
  {
   "cell_type": "code",
   "execution_count": 21,
   "metadata": {
    "vscode": {
     "languageId": "r"
    }
   },
   "outputs": [
    {
     "data": {
      "text/html": [
       "<table class=\"dataframe\">\n",
       "<caption>A data.table: 15 × 5</caption>\n",
       "<thead>\n",
       "\t<tr><th scope=col>reg</th><th scope=col>pob</th><th scope=col>pr</th><th scope=col>ssize</th><th scope=col>same_pr</th></tr>\n",
       "\t<tr><th scope=col>&lt;int&gt;</th><th scope=col>&lt;dbl&gt;</th><th scope=col>&lt;dbl&gt;</th><th scope=col>&lt;dbl&gt;</th><th scope=col>&lt;dbl&gt;</th></tr>\n",
       "</thead>\n",
       "<tbody>\n",
       "\t<tr><td> 1</td><td> 328782</td><td>0.3</td><td>67</td><td>0.5</td></tr>\n",
       "\t<tr><td> 2</td><td> 613328</td><td>0.4</td><td>76</td><td>0.5</td></tr>\n",
       "\t<tr><td> 3</td><td> 308247</td><td>0.5</td><td>79</td><td>0.5</td></tr>\n",
       "\t<tr><td> 4</td><td> 759228</td><td>0.5</td><td>79</td><td>0.5</td></tr>\n",
       "\t<tr><td> 5</td><td>1808300</td><td>0.5</td><td>79</td><td>0.5</td></tr>\n",
       "\t<tr><td> 6</td><td> 910577</td><td>0.6</td><td>76</td><td>0.5</td></tr>\n",
       "\t<tr><td> 7</td><td>1035593</td><td>0.3</td><td>67</td><td>0.5</td></tr>\n",
       "\t<tr><td> 8</td><td>2100494</td><td>0.1</td><td>29</td><td>0.5</td></tr>\n",
       "\t<tr><td> 9</td><td> 983499</td><td>0.2</td><td>51</td><td>0.5</td></tr>\n",
       "\t<tr><td>10</td><td> 834714</td><td>0.5</td><td>79</td><td>0.5</td></tr>\n",
       "\t<tr><td>11</td><td> 107334</td><td>0.5</td><td>79</td><td>0.5</td></tr>\n",
       "\t<tr><td>12</td><td> 163748</td><td>0.4</td><td>76</td><td>0.5</td></tr>\n",
       "\t<tr><td>13</td><td>7228581</td><td>0.6</td><td>76</td><td>0.5</td></tr>\n",
       "\t<tr><td>14</td><td> 401548</td><td>0.2</td><td>51</td><td>0.5</td></tr>\n",
       "\t<tr><td>15</td><td> 235081</td><td>0.3</td><td>67</td><td>0.5</td></tr>\n",
       "</tbody>\n",
       "</table>\n"
      ],
      "text/latex": [
       "A data.table: 15 × 5\n",
       "\\begin{tabular}{lllll}\n",
       " reg & pob & pr & ssize & same\\_pr\\\\\n",
       " <int> & <dbl> & <dbl> & <dbl> & <dbl>\\\\\n",
       "\\hline\n",
       "\t  1 &  328782 & 0.3 & 67 & 0.5\\\\\n",
       "\t  2 &  613328 & 0.4 & 76 & 0.5\\\\\n",
       "\t  3 &  308247 & 0.5 & 79 & 0.5\\\\\n",
       "\t  4 &  759228 & 0.5 & 79 & 0.5\\\\\n",
       "\t  5 & 1808300 & 0.5 & 79 & 0.5\\\\\n",
       "\t  6 &  910577 & 0.6 & 76 & 0.5\\\\\n",
       "\t  7 & 1035593 & 0.3 & 67 & 0.5\\\\\n",
       "\t  8 & 2100494 & 0.1 & 29 & 0.5\\\\\n",
       "\t  9 &  983499 & 0.2 & 51 & 0.5\\\\\n",
       "\t 10 &  834714 & 0.5 & 79 & 0.5\\\\\n",
       "\t 11 &  107334 & 0.5 & 79 & 0.5\\\\\n",
       "\t 12 &  163748 & 0.4 & 76 & 0.5\\\\\n",
       "\t 13 & 7228581 & 0.6 & 76 & 0.5\\\\\n",
       "\t 14 &  401548 & 0.2 & 51 & 0.5\\\\\n",
       "\t 15 &  235081 & 0.3 & 67 & 0.5\\\\\n",
       "\\end{tabular}\n"
      ],
      "text/markdown": [
       "\n",
       "A data.table: 15 × 5\n",
       "\n",
       "| reg &lt;int&gt; | pob &lt;dbl&gt; | pr &lt;dbl&gt; | ssize &lt;dbl&gt; | same_pr &lt;dbl&gt; |\n",
       "|---|---|---|---|---|\n",
       "|  1 |  328782 | 0.3 | 67 | 0.5 |\n",
       "|  2 |  613328 | 0.4 | 76 | 0.5 |\n",
       "|  3 |  308247 | 0.5 | 79 | 0.5 |\n",
       "|  4 |  759228 | 0.5 | 79 | 0.5 |\n",
       "|  5 | 1808300 | 0.5 | 79 | 0.5 |\n",
       "|  6 |  910577 | 0.6 | 76 | 0.5 |\n",
       "|  7 | 1035593 | 0.3 | 67 | 0.5 |\n",
       "|  8 | 2100494 | 0.1 | 29 | 0.5 |\n",
       "|  9 |  983499 | 0.2 | 51 | 0.5 |\n",
       "| 10 |  834714 | 0.5 | 79 | 0.5 |\n",
       "| 11 |  107334 | 0.5 | 79 | 0.5 |\n",
       "| 12 |  163748 | 0.4 | 76 | 0.5 |\n",
       "| 13 | 7228581 | 0.6 | 76 | 0.5 |\n",
       "| 14 |  401548 | 0.2 | 51 | 0.5 |\n",
       "| 15 |  235081 | 0.3 | 67 | 0.5 |\n",
       "\n"
      ],
      "text/plain": [
       "   reg pob     pr  ssize same_pr\n",
       "1   1   328782 0.3 67    0.5    \n",
       "2   2   613328 0.4 76    0.5    \n",
       "3   3   308247 0.5 79    0.5    \n",
       "4   4   759228 0.5 79    0.5    \n",
       "5   5  1808300 0.5 79    0.5    \n",
       "6   6   910577 0.6 76    0.5    \n",
       "7   7  1035593 0.3 67    0.5    \n",
       "8   8  2100494 0.1 29    0.5    \n",
       "9   9   983499 0.2 51    0.5    \n",
       "10 10   834714 0.5 79    0.5    \n",
       "11 11   107334 0.5 79    0.5    \n",
       "12 12   163748 0.4 76    0.5    \n",
       "13 13  7228581 0.6 76    0.5    \n",
       "14 14   401548 0.2 51    0.5    \n",
       "15 15   235081 0.3 67    0.5    "
      ]
     },
     "metadata": {},
     "output_type": "display_data"
    }
   ],
   "source": [
    "chile[, ssize := astrata(e = .11, method = \"error\", N = pob, p = pr)]\n",
    "chile"
   ]
  },
  {
   "cell_type": "code",
   "execution_count": 22,
   "metadata": {
    "vscode": {
     "languageId": "r"
    }
   },
   "outputs": [
    {
     "data": {
      "text/html": [
       "1031"
      ],
      "text/latex": [
       "1031"
      ],
      "text/markdown": [
       "1031"
      ],
      "text/plain": [
       "[1] 1031"
      ]
     },
     "metadata": {},
     "output_type": "display_data"
    }
   ],
   "source": [
    "sum(chile$ssize)"
   ]
  },
  {
   "cell_type": "code",
   "execution_count": 23,
   "metadata": {
    "vscode": {
     "languageId": "r"
    }
   },
   "outputs": [
    {
     "data": {
      "text/html": [
       "0.0498"
      ],
      "text/latex": [
       "0.0498"
      ],
      "text/markdown": [
       "0.0498"
      ],
      "text/plain": [
       "[1] 0.0498"
      ]
     },
     "metadata": {},
     "output_type": "display_data"
    }
   ],
   "source": [
    "serrst(n = chile$ssize, N = chile$pob, p = chile$pr)"
   ]
  },
  {
   "attachments": {},
   "cell_type": "markdown",
   "metadata": {},
   "source": [
    "# Simulate some data"
   ]
  },
  {
   "cell_type": "code",
   "execution_count": 24,
   "metadata": {
    "vscode": {
     "languageId": "r"
    }
   },
   "outputs": [
    {
     "name": "stdout",
     "output_type": "stream",
     "text": [
      "[1] 23000\n"
     ]
    }
   ],
   "source": [
    "set.seed(12212022)\n",
    "a = rnorm(13000, mean=4.1, sd=0.1)\n",
    "b = rnorm(1500, mean=8.3, sd=0.3)\n",
    "c = rnorm(7500, mean=1.7, sd=0.5)\n",
    "d = rnorm(1000, mean=5.9, sd=0.1)\n",
    "\n",
    "values = c(a, b, c, d)\n",
    "labels = c(rep(\"a\", length(a)), rep(\"b\", length(b)), rep(\"c\", length(c)), rep(\"d\", length(d)))\n",
    "dt = data.table(id=1:length(values), label=labels, values)\n",
    "dt[, pop_strat := .N, by=label]\n",
    "dt[, total_population := .N]\n",
    "total_population = nrow(dt)\n",
    "print(total_population)\n",
    "\n",
    "dt[, sample_rate := 1000/23000]\n",
    "dt[, sample_strat := ceiling(pop_strat * sample_rate)]"
   ]
  },
  {
   "cell_type": "code",
   "execution_count": 37,
   "metadata": {
    "vscode": {
     "languageId": "r"
    }
   },
   "outputs": [
    {
     "data": {
      "text/html": [
       "<table class=\"dataframe\">\n",
       "<caption>A data.table: 6 × 7</caption>\n",
       "<thead>\n",
       "\t<tr><th scope=col>id</th><th scope=col>label</th><th scope=col>values</th><th scope=col>pop_strat</th><th scope=col>total_population</th><th scope=col>sample_rate</th><th scope=col>sample_strat</th></tr>\n",
       "\t<tr><th scope=col>&lt;int&gt;</th><th scope=col>&lt;chr&gt;</th><th scope=col>&lt;dbl&gt;</th><th scope=col>&lt;int&gt;</th><th scope=col>&lt;int&gt;</th><th scope=col>&lt;dbl&gt;</th><th scope=col>&lt;dbl&gt;</th></tr>\n",
       "</thead>\n",
       "<tbody>\n",
       "\t<tr><td>1</td><td>a</td><td>4.135920</td><td>13000</td><td>23000</td><td>0.04347826</td><td>566</td></tr>\n",
       "\t<tr><td>2</td><td>a</td><td>4.241181</td><td>13000</td><td>23000</td><td>0.04347826</td><td>566</td></tr>\n",
       "\t<tr><td>3</td><td>a</td><td>4.029086</td><td>13000</td><td>23000</td><td>0.04347826</td><td>566</td></tr>\n",
       "\t<tr><td>4</td><td>a</td><td>3.945607</td><td>13000</td><td>23000</td><td>0.04347826</td><td>566</td></tr>\n",
       "\t<tr><td>5</td><td>a</td><td>4.094104</td><td>13000</td><td>23000</td><td>0.04347826</td><td>566</td></tr>\n",
       "\t<tr><td>6</td><td>a</td><td>4.062808</td><td>13000</td><td>23000</td><td>0.04347826</td><td>566</td></tr>\n",
       "</tbody>\n",
       "</table>\n"
      ],
      "text/latex": [
       "A data.table: 6 × 7\n",
       "\\begin{tabular}{lllllll}\n",
       " id & label & values & pop\\_strat & total\\_population & sample\\_rate & sample\\_strat\\\\\n",
       " <int> & <chr> & <dbl> & <int> & <int> & <dbl> & <dbl>\\\\\n",
       "\\hline\n",
       "\t 1 & a & 4.135920 & 13000 & 23000 & 0.04347826 & 566\\\\\n",
       "\t 2 & a & 4.241181 & 13000 & 23000 & 0.04347826 & 566\\\\\n",
       "\t 3 & a & 4.029086 & 13000 & 23000 & 0.04347826 & 566\\\\\n",
       "\t 4 & a & 3.945607 & 13000 & 23000 & 0.04347826 & 566\\\\\n",
       "\t 5 & a & 4.094104 & 13000 & 23000 & 0.04347826 & 566\\\\\n",
       "\t 6 & a & 4.062808 & 13000 & 23000 & 0.04347826 & 566\\\\\n",
       "\\end{tabular}\n"
      ],
      "text/markdown": [
       "\n",
       "A data.table: 6 × 7\n",
       "\n",
       "| id &lt;int&gt; | label &lt;chr&gt; | values &lt;dbl&gt; | pop_strat &lt;int&gt; | total_population &lt;int&gt; | sample_rate &lt;dbl&gt; | sample_strat &lt;dbl&gt; |\n",
       "|---|---|---|---|---|---|---|\n",
       "| 1 | a | 4.135920 | 13000 | 23000 | 0.04347826 | 566 |\n",
       "| 2 | a | 4.241181 | 13000 | 23000 | 0.04347826 | 566 |\n",
       "| 3 | a | 4.029086 | 13000 | 23000 | 0.04347826 | 566 |\n",
       "| 4 | a | 3.945607 | 13000 | 23000 | 0.04347826 | 566 |\n",
       "| 5 | a | 4.094104 | 13000 | 23000 | 0.04347826 | 566 |\n",
       "| 6 | a | 4.062808 | 13000 | 23000 | 0.04347826 | 566 |\n",
       "\n"
      ],
      "text/plain": [
       "  id label values   pop_strat total_population sample_rate sample_strat\n",
       "1 1  a     4.135920 13000     23000            0.04347826  566         \n",
       "2 2  a     4.241181 13000     23000            0.04347826  566         \n",
       "3 3  a     4.029086 13000     23000            0.04347826  566         \n",
       "4 4  a     3.945607 13000     23000            0.04347826  566         \n",
       "5 5  a     4.094104 13000     23000            0.04347826  566         \n",
       "6 6  a     4.062808 13000     23000            0.04347826  566         "
      ]
     },
     "metadata": {},
     "output_type": "display_data"
    }
   ],
   "source": [
    "head(dt)"
   ]
  },
  {
   "cell_type": "code",
   "execution_count": 38,
   "metadata": {
    "vscode": {
     "languageId": "r"
    }
   },
   "outputs": [
    {
     "name": "stdout",
     "output_type": "stream",
     "text": [
      "[1] \"Any duplicates?: 0\"\n",
      "[1] \"Sample size: 1003\"\n"
     ]
    }
   ],
   "source": [
    "# stratified sample (by label)\n",
    "sdt = dt[,.SD[sample(.N, min(sample_strat, .N))], label]\n",
    "\n",
    "print(paste0(\"Any duplicates?: \", anyDuplicated(sdt$id)))\n",
    "print(paste0(\"Sample size: \", nrow(sdt)))"
   ]
  },
  {
   "attachments": {},
   "cell_type": "markdown",
   "metadata": {},
   "source": [
    "## Intro to package `survey`"
   ]
  },
  {
   "cell_type": "code",
   "execution_count": 39,
   "metadata": {
    "vscode": {
     "languageId": "r"
    }
   },
   "outputs": [],
   "source": [
    "# declare survey design\n",
    "d_str_0 = svydesign(id=~0, data=sdt, probs=~sample_rate, fpc=~total_population)\n",
    "d_str_1 = svydesign(id=~0, data=sdt, strata=~label, probs=~sample_rate, fpc=~pop_strat)"
   ]
  },
  {
   "cell_type": "code",
   "execution_count": 40,
   "metadata": {
    "vscode": {
     "languageId": "r"
    }
   },
   "outputs": [
    {
     "data": {
      "text/plain": [
       "Stratified Independent Sampling design\n",
       "svydesign(id = ~0, data = sdt, strata = ~label, probs = ~sample_rate, \n",
       "    fpc = ~pop_strat)"
      ]
     },
     "metadata": {},
     "output_type": "display_data"
    }
   ],
   "source": [
    "d_str_1"
   ]
  },
  {
   "cell_type": "code",
   "execution_count": 41,
   "metadata": {
    "vscode": {
     "languageId": "r"
    }
   },
   "outputs": [
    {
     "data": {
      "text/plain": [
       "           mean       SE   DEff\n",
       "values 3.671050 0.054703 0.9999"
      ]
     },
     "metadata": {},
     "output_type": "display_data"
    }
   ],
   "source": [
    "svymean(~values, d_str_0, deff=TRUE)"
   ]
  },
  {
   "cell_type": "code",
   "execution_count": 42,
   "metadata": {
    "vscode": {
     "languageId": "r"
    }
   },
   "outputs": [
    {
     "data": {
      "text/plain": [
       "            mean        SE   DEff\n",
       "values 3.6710496 0.0092067 0.0283"
      ]
     },
     "metadata": {},
     "output_type": "display_data"
    }
   ],
   "source": [
    "svymean(~values, d_str_1, deff=TRUE)"
   ]
  },
  {
   "attachments": {},
   "cell_type": "markdown",
   "metadata": {},
   "source": [
    "## Why is this happening?\n",
    "\n",
    "This is the code to generate strata: \n",
    "\n",
    "```\n",
    "a = rnorm(13000, mean=4.1, sd=0.1)\n",
    "b = rnorm(1500, mean=8.3, sd=0.3)\n",
    "c = rnorm(7500, mean=1.7, sd=0.5)\n",
    "d = rnorm(1000, mean=5.9, sd=0.4)\n",
    "```"
   ]
  },
  {
   "cell_type": "code",
   "execution_count": 30,
   "metadata": {
    "vscode": {
     "languageId": "r"
    }
   },
   "outputs": [
    {
     "data": {
      "text/plain": [
       "\n",
       "         a          b          c          d \n",
       "0.56521739 0.06521739 0.32608696 0.04347826 "
      ]
     },
     "metadata": {},
     "output_type": "display_data"
    }
   ],
   "source": [
    "# distribution in the population\n",
    "prop.table(table(dt$label))"
   ]
  },
  {
   "cell_type": "code",
   "execution_count": 32,
   "metadata": {
    "vscode": {
     "languageId": "r"
    }
   },
   "outputs": [
    {
     "data": {
      "text/plain": [
       "\n",
       "         a          b          c          d \n",
       "0.56131605 0.05782652 0.33998006 0.04087737 "
      ]
     },
     "metadata": {},
     "output_type": "display_data"
    }
   ],
   "source": [
    "srs = dt[sample(.N, 1003)]\n",
    "prop.table(table(srs$label))"
   ]
  },
  {
   "cell_type": "code",
   "execution_count": 22,
   "metadata": {
    "vscode": {
     "languageId": "r"
    }
   },
   "outputs": [
    {
     "data": {
      "text/plain": [
       "\n",
       "         a          b          c          d \n",
       "0.56430708 0.06580259 0.32602193 0.04386839 "
      ]
     },
     "metadata": {},
     "output_type": "display_data"
    }
   ],
   "source": [
    "strs = dt[,.SD[sample(.N, min(sample_strat, .N))], label]\n",
    "prop.table(table(strs$label))"
   ]
  },
  {
   "attachments": {},
   "cell_type": "markdown",
   "metadata": {
    "vscode": {
     "languageId": "r"
    }
   },
   "source": [
    "# Simple allocation (same size per stratum)"
   ]
  },
  {
   "cell_type": "code",
   "execution_count": 23,
   "metadata": {
    "vscode": {
     "languageId": "r"
    }
   },
   "outputs": [
    {
     "data": {
      "text/plain": [
       "\n",
       "   a    b    c    d \n",
       "0.25 0.25 0.25 0.25 "
      ]
     },
     "metadata": {},
     "output_type": "display_data"
    }
   ],
   "source": [
    "dt[, sample_size_fixed := 1000/length(unique(dt$label))]\n",
    "dt[, sample_rate_fixed := sample_size_fixed/pop_strat]\n",
    "sdts = dt[,.SD[sample(.N, min(sample_size_fixed, .N))], by = label]\n",
    "\n",
    "prop.table(table(sdts$label))"
   ]
  },
  {
   "cell_type": "code",
   "execution_count": 24,
   "metadata": {
    "vscode": {
     "languageId": "r"
    }
   },
   "outputs": [
    {
     "data": {
      "text/html": [
       "4.99383859672793"
      ],
      "text/latex": [
       "4.99383859672793"
      ],
      "text/markdown": [
       "4.99383859672793"
      ],
      "text/plain": [
       "[1] 4.993839"
      ]
     },
     "metadata": {},
     "output_type": "display_data"
    }
   ],
   "source": [
    "mean(sdts$values)"
   ]
  },
  {
   "cell_type": "code",
   "execution_count": 25,
   "metadata": {
    "vscode": {
     "languageId": "r"
    }
   },
   "outputs": [
    {
     "data": {
      "text/html": [
       "23000"
      ],
      "text/latex": [
       "23000"
      ],
      "text/markdown": [
       "23000"
      ],
      "text/plain": [
       "[1] 23000"
      ]
     },
     "metadata": {},
     "output_type": "display_data"
    }
   ],
   "source": [
    "sdts[, w := 1/sample_rate_fixed]\n",
    "sum(sdts$w)"
   ]
  },
  {
   "cell_type": "code",
   "execution_count": 26,
   "metadata": {
    "vscode": {
     "languageId": "r"
    }
   },
   "outputs": [
    {
     "data": {
      "text/html": [
       "3.66113060531917"
      ],
      "text/latex": [
       "3.66113060531917"
      ],
      "text/markdown": [
       "3.66113060531917"
      ],
      "text/plain": [
       "[1] 3.661131"
      ]
     },
     "metadata": {},
     "output_type": "display_data"
    }
   ],
   "source": [
    "weighted.mean(sdts$values, sdts$w)"
   ]
  },
  {
   "cell_type": "code",
   "execution_count": 27,
   "metadata": {
    "vscode": {
     "languageId": "r"
    }
   },
   "outputs": [],
   "source": [
    "d_str_2 = svydesign(id=~0, data=sdts, strata=~label, probs=~sample_rate_fixed, fpc=~pop_strat)"
   ]
  },
  {
   "cell_type": "code",
   "execution_count": 28,
   "metadata": {
    "vscode": {
     "languageId": "r"
    }
   },
   "outputs": [
    {
     "data": {
      "text/plain": [
       "           mean       SE   DEff\n",
       "values 3.661131 0.010599 0.0373"
      ]
     },
     "metadata": {},
     "output_type": "display_data"
    }
   ],
   "source": [
    "svymean(~values, d_str_2, deff=TRUE)"
   ]
  },
  {
   "attachments": {},
   "cell_type": "markdown",
   "metadata": {},
   "source": [
    "# Note: Systematic sampling"
   ]
  },
  {
   "cell_type": "code",
   "execution_count": 29,
   "metadata": {
    "vscode": {
     "languageId": "r"
    }
   },
   "outputs": [],
   "source": [
    "k = 340/39\n",
    "\n",
    "diff = c()\n",
    "unit = 3\n",
    "\n",
    "for (i in 2:38) {\n",
    "    v = round(unit[length(unit)] + k)\n",
    "    diff = c(diff, v - unit[length(unit)])\n",
    "    unit = c(unit, v)\n",
    "}"
   ]
  },
  {
   "cell_type": "code",
   "execution_count": 30,
   "metadata": {
    "vscode": {
     "languageId": "r"
    }
   },
   "outputs": [
    {
     "name": "stdout",
     "output_type": "stream",
     "text": [
      "[1] 8.717949\n"
     ]
    },
    {
     "data": {
      "text/html": [
       "<style>\n",
       ".list-inline {list-style: none; margin:0; padding: 0}\n",
       ".list-inline>li {display: inline-block}\n",
       ".list-inline>li:not(:last-child)::after {content: \"\\00b7\"; padding: 0 .5ex}\n",
       "</style>\n",
       "<ol class=list-inline><li>3</li><li>12</li><li>21</li><li>30</li><li>39</li><li>48</li></ol>\n"
      ],
      "text/latex": [
       "\\begin{enumerate*}\n",
       "\\item 3\n",
       "\\item 12\n",
       "\\item 21\n",
       "\\item 30\n",
       "\\item 39\n",
       "\\item 48\n",
       "\\end{enumerate*}\n"
      ],
      "text/markdown": [
       "1. 3\n",
       "2. 12\n",
       "3. 21\n",
       "4. 30\n",
       "5. 39\n",
       "6. 48\n",
       "\n",
       "\n"
      ],
      "text/plain": [
       "[1]  3 12 21 30 39 48"
      ]
     },
     "metadata": {},
     "output_type": "display_data"
    },
    {
     "data": {
      "text/html": [
       "<style>\n",
       ".list-inline {list-style: none; margin:0; padding: 0}\n",
       ".list-inline>li {display: inline-block}\n",
       ".list-inline>li:not(:last-child)::after {content: \"\\00b7\"; padding: 0 .5ex}\n",
       "</style>\n",
       "<ol class=list-inline><li>291</li><li>300</li><li>309</li><li>318</li><li>327</li><li>336</li></ol>\n"
      ],
      "text/latex": [
       "\\begin{enumerate*}\n",
       "\\item 291\n",
       "\\item 300\n",
       "\\item 309\n",
       "\\item 318\n",
       "\\item 327\n",
       "\\item 336\n",
       "\\end{enumerate*}\n"
      ],
      "text/markdown": [
       "1. 291\n",
       "2. 300\n",
       "3. 309\n",
       "4. 318\n",
       "5. 327\n",
       "6. 336\n",
       "\n",
       "\n"
      ],
      "text/plain": [
       "[1] 291 300 309 318 327 336"
      ]
     },
     "metadata": {},
     "output_type": "display_data"
    }
   ],
   "source": [
    "print(k)\n",
    "head(unit)\n",
    "tail(unit)"
   ]
  }
 ],
 "metadata": {
  "kernelspec": {
   "display_name": "R",
   "language": "R",
   "name": "ir"
  },
  "language_info": {
   "codemirror_mode": "r",
   "file_extension": ".r",
   "mimetype": "text/x-r-source",
   "name": "R",
   "pygments_lexer": "r",
   "version": "4.2.3"
  },
  "orig_nbformat": 4,
  "vscode": {
   "interpreter": {
    "hash": "e2698368bb0a2b2d4e073abf542767dbf1f2582f0fa683949db8eac1f25f2be3"
   }
  }
 },
 "nbformat": 4,
 "nbformat_minor": 2
}
