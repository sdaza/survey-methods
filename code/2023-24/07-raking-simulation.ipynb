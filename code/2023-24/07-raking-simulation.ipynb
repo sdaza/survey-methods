{
 "cells": [
  {
   "cell_type": "markdown",
   "metadata": {},
   "source": [
    "# Joint distribution"
   ]
  },
  {
   "cell_type": "code",
   "execution_count": 19,
   "metadata": {
    "vscode": {
     "languageId": "r"
    }
   },
   "outputs": [
    {
     "name": "stderr",
     "output_type": "stream",
     "text": [
      "Installing package into ‘/opt/homebrew/lib/R/4.2/site-library’\n",
      "(as ‘lib’ is unspecified)\n",
      "\n",
      "Warning message:\n",
      "“package ‘PracTools’ is not available for this version of R\n",
      "\n",
      "A version of this package for your version of R might be available elsewhere,\n",
      "see the ideas at\n",
      "https://cran.r-project.org/doc/manuals/r-patched/R-admin.html#Installing-packages”\n"
     ]
    }
   ],
   "source": [
    "install.packages(\"PracTools\")"
   ]
  },
  {
   "cell_type": "code",
   "execution_count": 9,
   "metadata": {
    "vscode": {
     "languageId": "r"
    }
   },
   "outputs": [
    {
     "name": "stderr",
     "output_type": "stream",
     "text": [
      "Loading required package: Hmisc\n",
      "\n",
      "\n",
      "Attaching package: ‘Hmisc’\n",
      "\n",
      "\n",
      "The following objects are masked from ‘package:base’:\n",
      "\n",
      "    format.pval, units\n",
      "\n",
      "\n"
     ]
    }
   ],
   "source": [
    "library(data.table)\n",
    "library(weights)"
   ]
  },
  {
   "cell_type": "code",
   "execution_count": 10,
   "metadata": {
    "vscode": {
     "languageId": "r"
    }
   },
   "outputs": [
    {
     "data": {
      "text/html": [
       "500"
      ],
      "text/latex": [
       "500"
      ],
      "text/markdown": [
       "500"
      ],
      "text/plain": [
       "[1] 500"
      ]
     },
     "metadata": {},
     "output_type": "display_data"
    },
    {
     "data": {
      "text/html": [
       "<table class=\"dataframe\">\n",
       "<caption>A data.table: 500 × 3</caption>\n",
       "<thead>\n",
       "\t<tr><th scope=col>sa</th><th scope=col>sb</th><th scope=col>total_sim</th></tr>\n",
       "\t<tr><th scope=col>&lt;chr&gt;</th><th scope=col>&lt;chr&gt;</th><th scope=col>&lt;int&gt;</th></tr>\n",
       "</thead>\n",
       "<tbody>\n",
       "\t<tr><td>A2</td><td>B3</td><td>500</td></tr>\n",
       "\t<tr><td>A1</td><td>B1</td><td>500</td></tr>\n",
       "\t<tr><td>A3</td><td>B1</td><td>500</td></tr>\n",
       "\t<tr><td>A2</td><td>B2</td><td>500</td></tr>\n",
       "\t<tr><td>A2</td><td>B3</td><td>500</td></tr>\n",
       "\t<tr><td>A2</td><td>B1</td><td>500</td></tr>\n",
       "\t<tr><td>A3</td><td>B1</td><td>500</td></tr>\n",
       "\t<tr><td>A1</td><td>B3</td><td>500</td></tr>\n",
       "\t<tr><td>A1</td><td>B3</td><td>500</td></tr>\n",
       "\t<tr><td>A1</td><td>B3</td><td>500</td></tr>\n",
       "\t<tr><td>A2</td><td>B3</td><td>500</td></tr>\n",
       "\t<tr><td>A2</td><td>B3</td><td>500</td></tr>\n",
       "\t<tr><td>A3</td><td>B1</td><td>500</td></tr>\n",
       "\t<tr><td>A3</td><td>B1</td><td>500</td></tr>\n",
       "\t<tr><td>A2</td><td>B1</td><td>500</td></tr>\n",
       "\t<tr><td>A1</td><td>B3</td><td>500</td></tr>\n",
       "\t<tr><td>A2</td><td>B1</td><td>500</td></tr>\n",
       "\t<tr><td>A3</td><td>B3</td><td>500</td></tr>\n",
       "\t<tr><td>A3</td><td>B2</td><td>500</td></tr>\n",
       "\t<tr><td>A2</td><td>B3</td><td>500</td></tr>\n",
       "\t<tr><td>A1</td><td>B2</td><td>500</td></tr>\n",
       "\t<tr><td>A3</td><td>B2</td><td>500</td></tr>\n",
       "\t<tr><td>A1</td><td>B1</td><td>500</td></tr>\n",
       "\t<tr><td>A2</td><td>B2</td><td>500</td></tr>\n",
       "\t<tr><td>A2</td><td>B1</td><td>500</td></tr>\n",
       "\t<tr><td>A2</td><td>B1</td><td>500</td></tr>\n",
       "\t<tr><td>A2</td><td>B1</td><td>500</td></tr>\n",
       "\t<tr><td>A3</td><td>B3</td><td>500</td></tr>\n",
       "\t<tr><td>A1</td><td>B2</td><td>500</td></tr>\n",
       "\t<tr><td>A3</td><td>B2</td><td>500</td></tr>\n",
       "\t<tr><td>⋮</td><td>⋮</td><td>⋮</td></tr>\n",
       "\t<tr><td>A3</td><td>B2</td><td>500</td></tr>\n",
       "\t<tr><td>A1</td><td>B2</td><td>500</td></tr>\n",
       "\t<tr><td>A3</td><td>B2</td><td>500</td></tr>\n",
       "\t<tr><td>A3</td><td>B1</td><td>500</td></tr>\n",
       "\t<tr><td>A2</td><td>B3</td><td>500</td></tr>\n",
       "\t<tr><td>A3</td><td>B1</td><td>500</td></tr>\n",
       "\t<tr><td>A1</td><td>B1</td><td>500</td></tr>\n",
       "\t<tr><td>A2</td><td>B3</td><td>500</td></tr>\n",
       "\t<tr><td>A3</td><td>B1</td><td>500</td></tr>\n",
       "\t<tr><td>A3</td><td>B2</td><td>500</td></tr>\n",
       "\t<tr><td>A3</td><td>B1</td><td>500</td></tr>\n",
       "\t<tr><td>A1</td><td>B1</td><td>500</td></tr>\n",
       "\t<tr><td>A2</td><td>B1</td><td>500</td></tr>\n",
       "\t<tr><td>A3</td><td>B1</td><td>500</td></tr>\n",
       "\t<tr><td>A2</td><td>B3</td><td>500</td></tr>\n",
       "\t<tr><td>A2</td><td>B3</td><td>500</td></tr>\n",
       "\t<tr><td>A1</td><td>B3</td><td>500</td></tr>\n",
       "\t<tr><td>A2</td><td>B2</td><td>500</td></tr>\n",
       "\t<tr><td>A3</td><td>B2</td><td>500</td></tr>\n",
       "\t<tr><td>A3</td><td>B1</td><td>500</td></tr>\n",
       "\t<tr><td>A3</td><td>B2</td><td>500</td></tr>\n",
       "\t<tr><td>A2</td><td>B2</td><td>500</td></tr>\n",
       "\t<tr><td>A3</td><td>B1</td><td>500</td></tr>\n",
       "\t<tr><td>A3</td><td>B2</td><td>500</td></tr>\n",
       "\t<tr><td>A1</td><td>B3</td><td>500</td></tr>\n",
       "\t<tr><td>A3</td><td>B1</td><td>500</td></tr>\n",
       "\t<tr><td>A2</td><td>B1</td><td>500</td></tr>\n",
       "\t<tr><td>A2</td><td>B1</td><td>500</td></tr>\n",
       "\t<tr><td>A3</td><td>B1</td><td>500</td></tr>\n",
       "\t<tr><td>A2</td><td>B1</td><td>500</td></tr>\n",
       "</tbody>\n",
       "</table>\n"
      ],
      "text/latex": [
       "A data.table: 500 × 3\n",
       "\\begin{tabular}{lll}\n",
       " sa & sb & total\\_sim\\\\\n",
       " <chr> & <chr> & <int>\\\\\n",
       "\\hline\n",
       "\t A2 & B3 & 500\\\\\n",
       "\t A1 & B1 & 500\\\\\n",
       "\t A3 & B1 & 500\\\\\n",
       "\t A2 & B2 & 500\\\\\n",
       "\t A2 & B3 & 500\\\\\n",
       "\t A2 & B1 & 500\\\\\n",
       "\t A3 & B1 & 500\\\\\n",
       "\t A1 & B3 & 500\\\\\n",
       "\t A1 & B3 & 500\\\\\n",
       "\t A1 & B3 & 500\\\\\n",
       "\t A2 & B3 & 500\\\\\n",
       "\t A2 & B3 & 500\\\\\n",
       "\t A3 & B1 & 500\\\\\n",
       "\t A3 & B1 & 500\\\\\n",
       "\t A2 & B1 & 500\\\\\n",
       "\t A1 & B3 & 500\\\\\n",
       "\t A2 & B1 & 500\\\\\n",
       "\t A3 & B3 & 500\\\\\n",
       "\t A3 & B2 & 500\\\\\n",
       "\t A2 & B3 & 500\\\\\n",
       "\t A1 & B2 & 500\\\\\n",
       "\t A3 & B2 & 500\\\\\n",
       "\t A1 & B1 & 500\\\\\n",
       "\t A2 & B2 & 500\\\\\n",
       "\t A2 & B1 & 500\\\\\n",
       "\t A2 & B1 & 500\\\\\n",
       "\t A2 & B1 & 500\\\\\n",
       "\t A3 & B3 & 500\\\\\n",
       "\t A1 & B2 & 500\\\\\n",
       "\t A3 & B2 & 500\\\\\n",
       "\t ⋮ & ⋮ & ⋮\\\\\n",
       "\t A3 & B2 & 500\\\\\n",
       "\t A1 & B2 & 500\\\\\n",
       "\t A3 & B2 & 500\\\\\n",
       "\t A3 & B1 & 500\\\\\n",
       "\t A2 & B3 & 500\\\\\n",
       "\t A3 & B1 & 500\\\\\n",
       "\t A1 & B1 & 500\\\\\n",
       "\t A2 & B3 & 500\\\\\n",
       "\t A3 & B1 & 500\\\\\n",
       "\t A3 & B2 & 500\\\\\n",
       "\t A3 & B1 & 500\\\\\n",
       "\t A1 & B1 & 500\\\\\n",
       "\t A2 & B1 & 500\\\\\n",
       "\t A3 & B1 & 500\\\\\n",
       "\t A2 & B3 & 500\\\\\n",
       "\t A2 & B3 & 500\\\\\n",
       "\t A1 & B3 & 500\\\\\n",
       "\t A2 & B2 & 500\\\\\n",
       "\t A3 & B2 & 500\\\\\n",
       "\t A3 & B1 & 500\\\\\n",
       "\t A3 & B2 & 500\\\\\n",
       "\t A2 & B2 & 500\\\\\n",
       "\t A3 & B1 & 500\\\\\n",
       "\t A3 & B2 & 500\\\\\n",
       "\t A1 & B3 & 500\\\\\n",
       "\t A3 & B1 & 500\\\\\n",
       "\t A2 & B1 & 500\\\\\n",
       "\t A2 & B1 & 500\\\\\n",
       "\t A3 & B1 & 500\\\\\n",
       "\t A2 & B1 & 500\\\\\n",
       "\\end{tabular}\n"
      ],
      "text/markdown": [
       "\n",
       "A data.table: 500 × 3\n",
       "\n",
       "| sa &lt;chr&gt; | sb &lt;chr&gt; | total_sim &lt;int&gt; |\n",
       "|---|---|---|\n",
       "| A2 | B3 | 500 |\n",
       "| A1 | B1 | 500 |\n",
       "| A3 | B1 | 500 |\n",
       "| A2 | B2 | 500 |\n",
       "| A2 | B3 | 500 |\n",
       "| A2 | B1 | 500 |\n",
       "| A3 | B1 | 500 |\n",
       "| A1 | B3 | 500 |\n",
       "| A1 | B3 | 500 |\n",
       "| A1 | B3 | 500 |\n",
       "| A2 | B3 | 500 |\n",
       "| A2 | B3 | 500 |\n",
       "| A3 | B1 | 500 |\n",
       "| A3 | B1 | 500 |\n",
       "| A2 | B1 | 500 |\n",
       "| A1 | B3 | 500 |\n",
       "| A2 | B1 | 500 |\n",
       "| A3 | B3 | 500 |\n",
       "| A3 | B2 | 500 |\n",
       "| A2 | B3 | 500 |\n",
       "| A1 | B2 | 500 |\n",
       "| A3 | B2 | 500 |\n",
       "| A1 | B1 | 500 |\n",
       "| A2 | B2 | 500 |\n",
       "| A2 | B1 | 500 |\n",
       "| A2 | B1 | 500 |\n",
       "| A2 | B1 | 500 |\n",
       "| A3 | B3 | 500 |\n",
       "| A1 | B2 | 500 |\n",
       "| A3 | B2 | 500 |\n",
       "| ⋮ | ⋮ | ⋮ |\n",
       "| A3 | B2 | 500 |\n",
       "| A1 | B2 | 500 |\n",
       "| A3 | B2 | 500 |\n",
       "| A3 | B1 | 500 |\n",
       "| A2 | B3 | 500 |\n",
       "| A3 | B1 | 500 |\n",
       "| A1 | B1 | 500 |\n",
       "| A2 | B3 | 500 |\n",
       "| A3 | B1 | 500 |\n",
       "| A3 | B2 | 500 |\n",
       "| A3 | B1 | 500 |\n",
       "| A1 | B1 | 500 |\n",
       "| A2 | B1 | 500 |\n",
       "| A3 | B1 | 500 |\n",
       "| A2 | B3 | 500 |\n",
       "| A2 | B3 | 500 |\n",
       "| A1 | B3 | 500 |\n",
       "| A2 | B2 | 500 |\n",
       "| A3 | B2 | 500 |\n",
       "| A3 | B1 | 500 |\n",
       "| A3 | B2 | 500 |\n",
       "| A2 | B2 | 500 |\n",
       "| A3 | B1 | 500 |\n",
       "| A3 | B2 | 500 |\n",
       "| A1 | B3 | 500 |\n",
       "| A3 | B1 | 500 |\n",
       "| A2 | B1 | 500 |\n",
       "| A2 | B1 | 500 |\n",
       "| A3 | B1 | 500 |\n",
       "| A2 | B1 | 500 |\n",
       "\n"
      ],
      "text/plain": [
       "    sa sb total_sim\n",
       "1   A2 B3 500      \n",
       "2   A1 B1 500      \n",
       "3   A3 B1 500      \n",
       "4   A2 B2 500      \n",
       "5   A2 B3 500      \n",
       "6   A2 B1 500      \n",
       "7   A3 B1 500      \n",
       "8   A1 B3 500      \n",
       "9   A1 B3 500      \n",
       "10  A1 B3 500      \n",
       "11  A2 B3 500      \n",
       "12  A2 B3 500      \n",
       "13  A3 B1 500      \n",
       "14  A3 B1 500      \n",
       "15  A2 B1 500      \n",
       "16  A1 B3 500      \n",
       "17  A2 B1 500      \n",
       "18  A3 B3 500      \n",
       "19  A3 B2 500      \n",
       "20  A2 B3 500      \n",
       "21  A1 B2 500      \n",
       "22  A3 B2 500      \n",
       "23  A1 B1 500      \n",
       "24  A2 B2 500      \n",
       "25  A2 B1 500      \n",
       "26  A2 B1 500      \n",
       "27  A2 B1 500      \n",
       "28  A3 B3 500      \n",
       "29  A1 B2 500      \n",
       "30  A3 B2 500      \n",
       "⋮   ⋮  ⋮  ⋮        \n",
       "471 A3 B2 500      \n",
       "472 A1 B2 500      \n",
       "473 A3 B2 500      \n",
       "474 A3 B1 500      \n",
       "475 A2 B3 500      \n",
       "476 A3 B1 500      \n",
       "477 A1 B1 500      \n",
       "478 A2 B3 500      \n",
       "479 A3 B1 500      \n",
       "480 A3 B2 500      \n",
       "481 A3 B1 500      \n",
       "482 A1 B1 500      \n",
       "483 A2 B1 500      \n",
       "484 A3 B1 500      \n",
       "485 A2 B3 500      \n",
       "486 A2 B3 500      \n",
       "487 A1 B3 500      \n",
       "488 A2 B2 500      \n",
       "489 A3 B2 500      \n",
       "490 A3 B1 500      \n",
       "491 A3 B2 500      \n",
       "492 A2 B2 500      \n",
       "493 A3 B1 500      \n",
       "494 A3 B2 500      \n",
       "495 A1 B3 500      \n",
       "496 A3 B1 500      \n",
       "497 A2 B1 500      \n",
       "498 A2 B1 500      \n",
       "499 A3 B1 500      \n",
       "500 A2 B1 500      "
      ]
     },
     "metadata": {},
     "output_type": "display_data"
    }
   ],
   "source": [
    "set.seed(100923)\n",
    "a = paste0('A', 1:3) \n",
    "b = paste0('B', 1:3)\n",
    "\n",
    "sa = sample(a, 500, replace=TRUE)\n",
    "sb = sample(b, 500, replace=TRUE)\n",
    "dat = data.table(sa, sb)\n",
    "dat[, total_sim := .N]\n",
    "nrow(dat)\n",
    "dat"
   ]
  },
  {
   "cell_type": "code",
   "execution_count": 11,
   "metadata": {
    "vscode": {
     "languageId": "r"
    }
   },
   "outputs": [
    {
     "name": "stdout",
     "output_type": "stream",
     "text": [
      "   sa sb total_sim joint total_joint  N\n",
      "1: A1 B1       500    10         215 42\n",
      "2: A1 B1       500    10         215 42\n",
      "3: A1 B1       500    10         215 42\n",
      "4: A1 B1       500    10         215 42\n",
      "   sa sb         w\n",
      "1: A1 B1 0.5537099\n",
      "2: A1 B1 0.5537099\n",
      "3: A1 B1 0.5537099\n",
      "4: A1 B1 0.5537099\n"
     ]
    }
   ],
   "source": [
    "joint = c(10, 23, 4, 23, 56, 10, 32, 23, 34)\n",
    "la = rep(c('A1', 'A2', 'A3'), 3)\n",
    "lb = c(rep('B1', 3), rep('B2', 3), rep('B3', 3))\n",
    "djoint = data.table(sa=la,sb=lb, joint=joint)\n",
    "djoint[, total_joint := sum(joint)]\n",
    "\n",
    "dat = merge(dat, djoint, by=c('sa', 'sb'))\n",
    "dat[, N := .N, .(sa, sb)]\n",
    "\n",
    "print(head(dat, 4))\n",
    "dat[, w := joint/total_joint * total_sim/N]\n",
    "print(head(dat[, .(sa, sb, w)], 4))"
   ]
  },
  {
   "cell_type": "code",
   "execution_count": 12,
   "metadata": {
    "vscode": {
     "languageId": "r"
    }
   },
   "outputs": [
    {
     "data": {
      "text/html": [
       "<table class=\"dataframe\">\n",
       "<caption>A data.table: 3 × 2</caption>\n",
       "<thead>\n",
       "\t<tr><th scope=col>sa</th><th scope=col>V1</th></tr>\n",
       "\t<tr><th scope=col>&lt;chr&gt;</th><th scope=col>&lt;dbl&gt;</th></tr>\n",
       "</thead>\n",
       "<tbody>\n",
       "\t<tr><td>A1</td><td>0.3023256</td></tr>\n",
       "\t<tr><td>A2</td><td>0.4744186</td></tr>\n",
       "\t<tr><td>A3</td><td>0.2232558</td></tr>\n",
       "</tbody>\n",
       "</table>\n"
      ],
      "text/latex": [
       "A data.table: 3 × 2\n",
       "\\begin{tabular}{ll}\n",
       " sa & V1\\\\\n",
       " <chr> & <dbl>\\\\\n",
       "\\hline\n",
       "\t A1 & 0.3023256\\\\\n",
       "\t A2 & 0.4744186\\\\\n",
       "\t A3 & 0.2232558\\\\\n",
       "\\end{tabular}\n"
      ],
      "text/markdown": [
       "\n",
       "A data.table: 3 × 2\n",
       "\n",
       "| sa &lt;chr&gt; | V1 &lt;dbl&gt; |\n",
       "|---|---|\n",
       "| A1 | 0.3023256 |\n",
       "| A2 | 0.4744186 |\n",
       "| A3 | 0.2232558 |\n",
       "\n"
      ],
      "text/plain": [
       "  sa V1       \n",
       "1 A1 0.3023256\n",
       "2 A2 0.4744186\n",
       "3 A3 0.2232558"
      ]
     },
     "metadata": {},
     "output_type": "display_data"
    }
   ],
   "source": [
    "total = sum(djoint$joint)\n",
    "djoint[, sum(joint)/total, sa]"
   ]
  },
  {
   "cell_type": "code",
   "execution_count": 13,
   "metadata": {
    "vscode": {
     "languageId": "r"
    }
   },
   "outputs": [
    {
     "data": {
      "text/html": [
       "<table class=\"dataframe\">\n",
       "<caption>A data.table: 3 × 2</caption>\n",
       "<thead>\n",
       "\t<tr><th scope=col>sa</th><th scope=col>V1</th></tr>\n",
       "\t<tr><th scope=col>&lt;chr&gt;</th><th scope=col>&lt;dbl&gt;</th></tr>\n",
       "</thead>\n",
       "<tbody>\n",
       "\t<tr><td>A1</td><td>0.3023256</td></tr>\n",
       "\t<tr><td>A2</td><td>0.4744186</td></tr>\n",
       "\t<tr><td>A3</td><td>0.2232558</td></tr>\n",
       "</tbody>\n",
       "</table>\n"
      ],
      "text/latex": [
       "A data.table: 3 × 2\n",
       "\\begin{tabular}{ll}\n",
       " sa & V1\\\\\n",
       " <chr> & <dbl>\\\\\n",
       "\\hline\n",
       "\t A1 & 0.3023256\\\\\n",
       "\t A2 & 0.4744186\\\\\n",
       "\t A3 & 0.2232558\\\\\n",
       "\\end{tabular}\n"
      ],
      "text/markdown": [
       "\n",
       "A data.table: 3 × 2\n",
       "\n",
       "| sa &lt;chr&gt; | V1 &lt;dbl&gt; |\n",
       "|---|---|\n",
       "| A1 | 0.3023256 |\n",
       "| A2 | 0.4744186 |\n",
       "| A3 | 0.2232558 |\n",
       "\n"
      ],
      "text/plain": [
       "  sa V1       \n",
       "1 A1 0.3023256\n",
       "2 A2 0.4744186\n",
       "3 A3 0.2232558"
      ]
     },
     "metadata": {},
     "output_type": "display_data"
    }
   ],
   "source": [
    "total = sum(djoint$joint)\n",
    "djoint[, sum(joint)/total, sa]"
   ]
  },
  {
   "cell_type": "code",
   "execution_count": 41,
   "metadata": {
    "vscode": {
     "languageId": "r"
    }
   },
   "outputs": [
    {
     "name": "stdout",
     "output_type": "stream",
     "text": [
      "   B1    B2    B3 \n",
      "0.332 0.356 0.312 \n",
      "       B1        B2        B3 \n",
      "0.1720930 0.4139535 0.4139535 \n"
     ]
    }
   ],
   "source": [
    "print(wpct(dat$sb))\n",
    "print(wpct(dat$sb, dat$w))"
   ]
  },
  {
   "cell_type": "code",
   "execution_count": 14,
   "metadata": {
    "vscode": {
     "languageId": "r"
    }
   },
   "outputs": [
    {
     "data": {
      "image/png": "[encoded data removed]",
      "text/plain": [
       "Plot with title “Distribution of weights”"
      ]
     },
     "metadata": {
      "image/png": {
       "height": 420,
       "width": 420
      }
     },
     "output_type": "display_data"
    }
   ],
   "source": [
    "hist(dat$w, breaks=10, main='Distribution of weights', xlab='weights')"
   ]
  },
  {
   "cell_type": "code",
   "execution_count": 15,
   "metadata": {
    "vscode": {
     "languageId": "r"
    }
   },
   "outputs": [
    {
     "data": {
      "text/html": [
       "500.000000000002"
      ],
      "text/latex": [
       "500.000000000002"
      ],
      "text/markdown": [
       "500.000000000002"
      ],
      "text/plain": [
       "[1] 500"
      ]
     },
     "metadata": {},
     "output_type": "display_data"
    }
   ],
   "source": [
    "sum(dat$w)"
   ]
  },
  {
   "cell_type": "code",
   "execution_count": 16,
   "metadata": {
    "vscode": {
     "languageId": "r"
    }
   },
   "outputs": [
    {
     "data": {
      "text/html": [
       "15000"
      ],
      "text/latex": [
       "15000"
      ],
      "text/markdown": [
       "15000"
      ],
      "text/plain": [
       "[1] 15000"
      ]
     },
     "metadata": {},
     "output_type": "display_data"
    },
    {
     "data": {
      "text/html": [
       "500.000000000002"
      ],
      "text/latex": [
       "500.000000000002"
      ],
      "text/markdown": [
       "500.000000000002"
      ],
      "text/plain": [
       "[1] 500"
      ]
     },
     "metadata": {},
     "output_type": "display_data"
    }
   ],
   "source": [
    "# scaling weights \n",
    "dat[, w2 := w * 30]\n",
    "sum(dat$w2)\n",
    "dat[, w3 := w2 * nrow(dat)/sum(w2)]\n",
    "sum(dat$w3)"
   ]
  },
  {
   "cell_type": "code",
   "execution_count": 17,
   "metadata": {
    "vscode": {
     "languageId": "r"
    }
   },
   "outputs": [
    {
     "ename": "ERROR",
     "evalue": "Error in loadNamespace(x): there is no package called ‘PracTools’\n",
     "output_type": "error",
     "traceback": [
      "Error in loadNamespace(x): there is no package called ‘PracTools’\nTraceback:\n",
      "1. loadNamespace(x)",
      "2. withRestarts(stop(cond), retry_loadNamespace = function() NULL)",
      "3. withOneRestart(expr, restarts[[1L]])",
      "4. doWithOneRestart(return(expr), restart)"
     ]
    }
   ],
   "source": [
    "1 + PracTools::cv(dat$w)"
   ]
  },
  {
   "cell_type": "code",
   "execution_count": 18,
   "metadata": {
    "vscode": {
     "languageId": "r"
    }
   },
   "outputs": [
    {
     "data": {
      "text/html": [
       "1.3840738176028"
      ],
      "text/latex": [
       "1.3840738176028"
      ],
      "text/markdown": [
       "1.3840738176028"
      ],
      "text/plain": [
       "[1] 1.384074"
      ]
     },
     "metadata": {},
     "output_type": "display_data"
    }
   ],
   "source": [
    "((sum(dat$w^2) / (sum(dat$w)) ^ 2) * nrow(dat)) "
   ]
  },
  {
   "cell_type": "code",
   "execution_count": 30,
   "metadata": {
    "vscode": {
     "languageId": "r"
    }
   },
   "outputs": [
    {
     "data": {
      "text/html": [
       "<table class=\"dataframe\">\n",
       "<caption>A data.table: 3 × 9</caption>\n",
       "<thead>\n",
       "\t<tr><th scope=col>sa</th><th scope=col>sb</th><th scope=col>total_sim</th><th scope=col>joint</th><th scope=col>total_joint</th><th scope=col>N</th><th scope=col>w</th><th scope=col>w2</th><th scope=col>w3</th></tr>\n",
       "\t<tr><th scope=col>&lt;chr&gt;</th><th scope=col>&lt;chr&gt;</th><th scope=col>&lt;int&gt;</th><th scope=col>&lt;dbl&gt;</th><th scope=col>&lt;dbl&gt;</th><th scope=col>&lt;int&gt;</th><th scope=col>&lt;dbl&gt;</th><th scope=col>&lt;dbl&gt;</th><th scope=col>&lt;dbl&gt;</th></tr>\n",
       "</thead>\n",
       "<tbody>\n",
       "\t<tr><td>A2</td><td>B2</td><td>500</td><td>56</td><td>215</td><td>62</td><td>2.100525</td><td>63.01575</td><td>2.100525</td></tr>\n",
       "\t<tr><td>A2</td><td>B2</td><td>500</td><td>56</td><td>215</td><td>62</td><td>2.100525</td><td>63.01575</td><td>2.100525</td></tr>\n",
       "\t<tr><td>A2</td><td>B2</td><td>500</td><td>56</td><td>215</td><td>62</td><td>2.100525</td><td>63.01575</td><td>2.100525</td></tr>\n",
       "</tbody>\n",
       "</table>\n"
      ],
      "text/latex": [
       "A data.table: 3 × 9\n",
       "\\begin{tabular}{lllllllll}\n",
       " sa & sb & total\\_sim & joint & total\\_joint & N & w & w2 & w3\\\\\n",
       " <chr> & <chr> & <int> & <dbl> & <dbl> & <int> & <dbl> & <dbl> & <dbl>\\\\\n",
       "\\hline\n",
       "\t A2 & B2 & 500 & 56 & 215 & 62 & 2.100525 & 63.01575 & 2.100525\\\\\n",
       "\t A2 & B2 & 500 & 56 & 215 & 62 & 2.100525 & 63.01575 & 2.100525\\\\\n",
       "\t A2 & B2 & 500 & 56 & 215 & 62 & 2.100525 & 63.01575 & 2.100525\\\\\n",
       "\\end{tabular}\n"
      ],
      "text/markdown": [
       "\n",
       "A data.table: 3 × 9\n",
       "\n",
       "| sa &lt;chr&gt; | sb &lt;chr&gt; | total_sim &lt;int&gt; | joint &lt;dbl&gt; | total_joint &lt;dbl&gt; | N &lt;int&gt; | w &lt;dbl&gt; | w2 &lt;dbl&gt; | w3 &lt;dbl&gt; |\n",
       "|---|---|---|---|---|---|---|---|---|\n",
       "| A2 | B2 | 500 | 56 | 215 | 62 | 2.100525 | 63.01575 | 2.100525 |\n",
       "| A2 | B2 | 500 | 56 | 215 | 62 | 2.100525 | 63.01575 | 2.100525 |\n",
       "| A2 | B2 | 500 | 56 | 215 | 62 | 2.100525 | 63.01575 | 2.100525 |\n",
       "\n"
      ],
      "text/plain": [
       "  sa sb total_sim joint total_joint N  w        w2       w3      \n",
       "1 A2 B2 500       56    215         62 2.100525 63.01575 2.100525\n",
       "2 A2 B2 500       56    215         62 2.100525 63.01575 2.100525\n",
       "3 A2 B2 500       56    215         62 2.100525 63.01575 2.100525"
      ]
     },
     "metadata": {},
     "output_type": "display_data"
    }
   ],
   "source": [
    "# cells with big weights\n",
    "head(dat[w>2], 3)"
   ]
  },
  {
   "cell_type": "markdown",
   "metadata": {},
   "source": [
    "# Raking "
   ]
  },
  {
   "cell_type": "code",
   "execution_count": 3,
   "metadata": {
    "vscode": {
     "languageId": "r"
    }
   },
   "outputs": [],
   "source": [
    "# removes::install_github(\"sdaza/autumn-adjustments\", force=TRUE)\n",
    "library(autumn)"
   ]
  },
  {
   "cell_type": "code",
   "execution_count": 4,
   "metadata": {
    "vscode": {
     "languageId": "r"
    }
   },
   "outputs": [],
   "source": [
    "target = list(\n",
    "    sa = c(A1 = 0.302, A2 = 0.474, A3 = 0.223), \n",
    "    sb = c(B1 = 0.172, B2=0.413, B3=0.413)\n",
    ")\n",
    "target = normalize(target)"
   ]
  },
  {
   "cell_type": "code",
   "execution_count": 5,
   "metadata": {
    "vscode": {
     "languageId": "r"
    }
   },
   "outputs": [
    {
     "ename": "ERROR",
     "evalue": "Error in is.data.frame(data): object 'dat' not found\n",
     "output_type": "error",
     "traceback": [
      "Error in is.data.frame(data): object 'dat' not found\nTraceback:\n",
      "1. harvest(dat, target)",
      "2. check_any_startup_issues(data, target, convergence, ...)",
      "3. is.data.frame(data)"
     ]
    }
   ],
   "source": [
    "result = harvest(dat, target)\n",
    "print(diagnose_weights(data=result, target=target, weights=result$weights))"
   ]
  },
  {
   "cell_type": "code",
   "execution_count": 6,
   "metadata": {
    "vscode": {
     "languageId": "r"
    }
   },
   "outputs": [
    {
     "ename": "ERROR",
     "evalue": "Error in hist(result$weights, main = \"Distribution raking weights\", xlab = \"weights\"): object 'result' not found\n",
     "output_type": "error",
     "traceback": [
      "Error in hist(result$weights, main = \"Distribution raking weights\", xlab = \"weights\"): object 'result' not found\nTraceback:\n",
      "1. hist(result$weights, main = \"Distribution raking weights\", xlab = \"weights\")"
     ]
    }
   ],
   "source": [
    "hist(result$weights, main=\"Distribution raking weights\", xlab=\"weights\")"
   ]
  },
  {
   "cell_type": "code",
   "execution_count": 7,
   "metadata": {
    "vscode": {
     "languageId": "r"
    }
   },
   "outputs": [
    {
     "ename": "ERROR",
     "evalue": "Error in is.data.frame(weights): object 'result' not found\n",
     "output_type": "error",
     "traceback": [
      "Error in is.data.frame(weights): object 'result' not found\nTraceback:\n",
      "1. design_effect(result$weights)",
      "2. is.data.frame(weights)"
     ]
    }
   ],
   "source": [
    "design_effect(result$weights)"
   ]
  },
  {
   "cell_type": "code",
   "execution_count": 8,
   "metadata": {
    "vscode": {
     "languageId": "r"
    }
   },
   "outputs": [
    {
     "ename": "ERROR",
     "evalue": "Error in is.data.frame(weights): object 'result' not found\n",
     "output_type": "error",
     "traceback": [
      "Error in is.data.frame(weights): object 'result' not found\nTraceback:\n",
      "1. effective_sample_size(result$weights)",
      "2. is.data.frame(weights)"
     ]
    }
   ],
   "source": [
    "effective_sample_size(result$weights)"
   ]
  },
  {
   "cell_type": "code",
   "execution_count": null,
   "metadata": {
    "vscode": {
     "languageId": "r"
    }
   },
   "outputs": [],
   "source": []
  }
 ],
 "metadata": {
  "kernelspec": {
   "display_name": "R",
   "language": "R",
   "name": "ir"
  },
  "language_info": {
   "codemirror_mode": "r",
   "file_extension": ".r",
   "mimetype": "text/x-r-source",
   "name": "R",
   "pygments_lexer": "r",
   "version": "4.2.3"
  },
  "vscode": {
   "interpreter": {
    "hash": "c47c99c0ba498f13b7c1d74cd47886000c0a36d8154d5df6d5ea6732515bf25f"
   }
  }
 },
 "nbformat": 4,
 "nbformat_minor": 4
}
