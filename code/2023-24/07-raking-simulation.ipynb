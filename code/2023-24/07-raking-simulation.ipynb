{
 "cells": [
  {
   "cell_type": "markdown",
   "metadata": {},
   "source": [
    "# Joint distribution"
   ]
  },
  {
   "cell_type": "code",
   "execution_count": 11,
   "metadata": {
    "vscode": {
     "languageId": "r"
    }
   },
   "outputs": [],
   "source": [
    "library(data.table)\n",
    "library(weights)"
   ]
  },
  {
   "cell_type": "code",
   "execution_count": 12,
   "metadata": {
    "vscode": {
     "languageId": "r"
    }
   },
   "outputs": [
    {
     "data": {
      "text/html": [
       "500"
      ],
      "text/latex": [
       "500"
      ],
      "text/markdown": [
       "500"
      ],
      "text/plain": [
       "[1] 500"
      ]
     },
     "metadata": {},
     "output_type": "display_data"
    },
    {
     "data": {
      "text/html": [
       "<table class=\"dataframe\">\n",
       "<caption>A data.table: 6 × 3</caption>\n",
       "<thead>\n",
       "\t<tr><th scope=col>a</th><th scope=col>b</th><th scope=col>total_sim</th></tr>\n",
       "\t<tr><th scope=col>&lt;chr&gt;</th><th scope=col>&lt;chr&gt;</th><th scope=col>&lt;int&gt;</th></tr>\n",
       "</thead>\n",
       "<tbody>\n",
       "\t<tr><td>A2</td><td>B3</td><td>500</td></tr>\n",
       "\t<tr><td>A1</td><td>B1</td><td>500</td></tr>\n",
       "\t<tr><td>A3</td><td>B1</td><td>500</td></tr>\n",
       "\t<tr><td>A2</td><td>B2</td><td>500</td></tr>\n",
       "\t<tr><td>A2</td><td>B3</td><td>500</td></tr>\n",
       "\t<tr><td>A2</td><td>B1</td><td>500</td></tr>\n",
       "</tbody>\n",
       "</table>\n"
      ],
      "text/latex": [
       "A data.table: 6 × 3\n",
       "\\begin{tabular}{lll}\n",
       " a & b & total\\_sim\\\\\n",
       " <chr> & <chr> & <int>\\\\\n",
       "\\hline\n",
       "\t A2 & B3 & 500\\\\\n",
       "\t A1 & B1 & 500\\\\\n",
       "\t A3 & B1 & 500\\\\\n",
       "\t A2 & B2 & 500\\\\\n",
       "\t A2 & B3 & 500\\\\\n",
       "\t A2 & B1 & 500\\\\\n",
       "\\end{tabular}\n"
      ],
      "text/markdown": [
       "\n",
       "A data.table: 6 × 3\n",
       "\n",
       "| a &lt;chr&gt; | b &lt;chr&gt; | total_sim &lt;int&gt; |\n",
       "|---|---|---|\n",
       "| A2 | B3 | 500 |\n",
       "| A1 | B1 | 500 |\n",
       "| A3 | B1 | 500 |\n",
       "| A2 | B2 | 500 |\n",
       "| A2 | B3 | 500 |\n",
       "| A2 | B1 | 500 |\n",
       "\n"
      ],
      "text/plain": [
       "  a  b  total_sim\n",
       "1 A2 B3 500      \n",
       "2 A1 B1 500      \n",
       "3 A3 B1 500      \n",
       "4 A2 B2 500      \n",
       "5 A2 B3 500      \n",
       "6 A2 B1 500      "
      ]
     },
     "metadata": {},
     "output_type": "display_data"
    }
   ],
   "source": [
    "set.seed(100923)\n",
    "va = paste0('A', 1:3) \n",
    "vb = paste0('B', 1:3)\n",
    "\n",
    "a = sample(va, 500, replace=TRUE)\n",
    "b = sample(vb, 500, replace=TRUE)\n",
    "dat = data.table(a, b)\n",
    "dat[, total_sim := .N]\n",
    "nrow(dat)\n",
    "head(dat)"
   ]
  },
  {
   "cell_type": "code",
   "execution_count": 13,
   "metadata": {
    "vscode": {
     "languageId": "r"
    }
   },
   "outputs": [
    {
     "data": {
      "text/html": [
       "<table class=\"dataframe\">\n",
       "<caption>A data.table: 9 × 4</caption>\n",
       "<thead>\n",
       "\t<tr><th scope=col>a</th><th scope=col>b</th><th scope=col>joint</th><th scope=col>total_joint</th></tr>\n",
       "\t<tr><th scope=col>&lt;chr&gt;</th><th scope=col>&lt;chr&gt;</th><th scope=col>&lt;dbl&gt;</th><th scope=col>&lt;dbl&gt;</th></tr>\n",
       "</thead>\n",
       "<tbody>\n",
       "\t<tr><td>A1</td><td>B1</td><td>10</td><td>215</td></tr>\n",
       "\t<tr><td>A2</td><td>B1</td><td>23</td><td>215</td></tr>\n",
       "\t<tr><td>A3</td><td>B1</td><td> 4</td><td>215</td></tr>\n",
       "\t<tr><td>A1</td><td>B2</td><td>23</td><td>215</td></tr>\n",
       "\t<tr><td>A2</td><td>B2</td><td>56</td><td>215</td></tr>\n",
       "\t<tr><td>A3</td><td>B2</td><td>10</td><td>215</td></tr>\n",
       "\t<tr><td>A1</td><td>B3</td><td>32</td><td>215</td></tr>\n",
       "\t<tr><td>A2</td><td>B3</td><td>23</td><td>215</td></tr>\n",
       "\t<tr><td>A3</td><td>B3</td><td>34</td><td>215</td></tr>\n",
       "</tbody>\n",
       "</table>\n"
      ],
      "text/latex": [
       "A data.table: 9 × 4\n",
       "\\begin{tabular}{llll}\n",
       " a & b & joint & total\\_joint\\\\\n",
       " <chr> & <chr> & <dbl> & <dbl>\\\\\n",
       "\\hline\n",
       "\t A1 & B1 & 10 & 215\\\\\n",
       "\t A2 & B1 & 23 & 215\\\\\n",
       "\t A3 & B1 &  4 & 215\\\\\n",
       "\t A1 & B2 & 23 & 215\\\\\n",
       "\t A2 & B2 & 56 & 215\\\\\n",
       "\t A3 & B2 & 10 & 215\\\\\n",
       "\t A1 & B3 & 32 & 215\\\\\n",
       "\t A2 & B3 & 23 & 215\\\\\n",
       "\t A3 & B3 & 34 & 215\\\\\n",
       "\\end{tabular}\n"
      ],
      "text/markdown": [
       "\n",
       "A data.table: 9 × 4\n",
       "\n",
       "| a &lt;chr&gt; | b &lt;chr&gt; | joint &lt;dbl&gt; | total_joint &lt;dbl&gt; |\n",
       "|---|---|---|---|\n",
       "| A1 | B1 | 10 | 215 |\n",
       "| A2 | B1 | 23 | 215 |\n",
       "| A3 | B1 |  4 | 215 |\n",
       "| A1 | B2 | 23 | 215 |\n",
       "| A2 | B2 | 56 | 215 |\n",
       "| A3 | B2 | 10 | 215 |\n",
       "| A1 | B3 | 32 | 215 |\n",
       "| A2 | B3 | 23 | 215 |\n",
       "| A3 | B3 | 34 | 215 |\n",
       "\n"
      ],
      "text/plain": [
       "  a  b  joint total_joint\n",
       "1 A1 B1 10    215        \n",
       "2 A2 B1 23    215        \n",
       "3 A3 B1  4    215        \n",
       "4 A1 B2 23    215        \n",
       "5 A2 B2 56    215        \n",
       "6 A3 B2 10    215        \n",
       "7 A1 B3 32    215        \n",
       "8 A2 B3 23    215        \n",
       "9 A3 B3 34    215        "
      ]
     },
     "metadata": {},
     "output_type": "display_data"
    }
   ],
   "source": [
    "joint = c(10, 23, 4, 23, 56, 10, 32, 23, 34)\n",
    "la = rep(c('A1', 'A2', 'A3'), 3)\n",
    "lb = c(rep('B1', 3), rep('B2', 3), rep('B3', 3))\n",
    "\n",
    "djoint = data.table(a=la,b=lb, joint=joint)\n",
    "djoint[, total_joint := sum(joint)]\n",
    "djoint"
   ]
  },
  {
   "cell_type": "code",
   "execution_count": 14,
   "metadata": {
    "vscode": {
     "languageId": "r"
    }
   },
   "outputs": [
    {
     "name": "stdout",
     "output_type": "stream",
     "text": [
      "   B1    B2    B3 \n",
      "0.332 0.356 0.312 \n"
     ]
    }
   ],
   "source": [
    "print(wpct(dat$b))"
   ]
  },
  {
   "cell_type": "code",
   "execution_count": 15,
   "metadata": {
    "vscode": {
     "languageId": "r"
    }
   },
   "outputs": [
    {
     "name": "stdout",
     "output_type": "stream",
     "text": [
      "    a  b         w\n",
      "1: A1 B1 0.5537099\n",
      "2: A1 B1 0.5537099\n",
      "3: A1 B1 0.5537099\n",
      "4: A1 B1 0.5537099\n"
     ]
    }
   ],
   "source": [
    "dat = merge(dat, djoint, by=c('a', 'b'))\n",
    "dat[, sim_group := .N, .(a, b)]\n",
    "dat[, w := joint/total_joint * total_sim/sim_group]\n",
    "print(head(dat[, .(a, b, w)], 4))"
   ]
  },
  {
   "cell_type": "code",
   "execution_count": 16,
   "metadata": {
    "vscode": {
     "languageId": "r"
    }
   },
   "outputs": [
    {
     "name": "stdout",
     "output_type": "stream",
     "text": [
      "    a      prop\n",
      "1: A1 0.3023256\n",
      "2: A2 0.4744186\n",
      "3: A3 0.2232558\n",
      "    b      prop\n",
      "1: B1 0.1720930\n",
      "2: B2 0.4139535\n",
      "3: B3 0.4139535\n"
     ]
    }
   ],
   "source": [
    "total = sum(djoint$joint)\n",
    "print(djoint[, .(prop=sum(joint)/total), a])\n",
    "print(djoint[, .(prop=sum(joint)/total), b])"
   ]
  },
  {
   "cell_type": "code",
   "execution_count": 17,
   "metadata": {
    "vscode": {
     "languageId": "r"
    }
   },
   "outputs": [
    {
     "data": {
      "text/html": [
       "<table class=\"dataframe\">\n",
       "<caption>A data.table: 6 × 7</caption>\n",
       "<thead>\n",
       "\t<tr><th scope=col>a</th><th scope=col>b</th><th scope=col>total_sim</th><th scope=col>joint</th><th scope=col>total_joint</th><th scope=col>sim_group</th><th scope=col>w</th></tr>\n",
       "\t<tr><th scope=col>&lt;chr&gt;</th><th scope=col>&lt;chr&gt;</th><th scope=col>&lt;int&gt;</th><th scope=col>&lt;dbl&gt;</th><th scope=col>&lt;dbl&gt;</th><th scope=col>&lt;int&gt;</th><th scope=col>&lt;dbl&gt;</th></tr>\n",
       "</thead>\n",
       "<tbody>\n",
       "\t<tr><td>A1</td><td>B1</td><td>500</td><td>10</td><td>215</td><td>42</td><td>0.5537099</td></tr>\n",
       "\t<tr><td>A1</td><td>B1</td><td>500</td><td>10</td><td>215</td><td>42</td><td>0.5537099</td></tr>\n",
       "\t<tr><td>A1</td><td>B1</td><td>500</td><td>10</td><td>215</td><td>42</td><td>0.5537099</td></tr>\n",
       "\t<tr><td>A1</td><td>B1</td><td>500</td><td>10</td><td>215</td><td>42</td><td>0.5537099</td></tr>\n",
       "\t<tr><td>A1</td><td>B1</td><td>500</td><td>10</td><td>215</td><td>42</td><td>0.5537099</td></tr>\n",
       "\t<tr><td>A1</td><td>B1</td><td>500</td><td>10</td><td>215</td><td>42</td><td>0.5537099</td></tr>\n",
       "</tbody>\n",
       "</table>\n"
      ],
      "text/latex": [
       "A data.table: 6 × 7\n",
       "\\begin{tabular}{lllllll}\n",
       " a & b & total\\_sim & joint & total\\_joint & sim\\_group & w\\\\\n",
       " <chr> & <chr> & <int> & <dbl> & <dbl> & <int> & <dbl>\\\\\n",
       "\\hline\n",
       "\t A1 & B1 & 500 & 10 & 215 & 42 & 0.5537099\\\\\n",
       "\t A1 & B1 & 500 & 10 & 215 & 42 & 0.5537099\\\\\n",
       "\t A1 & B1 & 500 & 10 & 215 & 42 & 0.5537099\\\\\n",
       "\t A1 & B1 & 500 & 10 & 215 & 42 & 0.5537099\\\\\n",
       "\t A1 & B1 & 500 & 10 & 215 & 42 & 0.5537099\\\\\n",
       "\t A1 & B1 & 500 & 10 & 215 & 42 & 0.5537099\\\\\n",
       "\\end{tabular}\n"
      ],
      "text/markdown": [
       "\n",
       "A data.table: 6 × 7\n",
       "\n",
       "| a &lt;chr&gt; | b &lt;chr&gt; | total_sim &lt;int&gt; | joint &lt;dbl&gt; | total_joint &lt;dbl&gt; | sim_group &lt;int&gt; | w &lt;dbl&gt; |\n",
       "|---|---|---|---|---|---|---|\n",
       "| A1 | B1 | 500 | 10 | 215 | 42 | 0.5537099 |\n",
       "| A1 | B1 | 500 | 10 | 215 | 42 | 0.5537099 |\n",
       "| A1 | B1 | 500 | 10 | 215 | 42 | 0.5537099 |\n",
       "| A1 | B1 | 500 | 10 | 215 | 42 | 0.5537099 |\n",
       "| A1 | B1 | 500 | 10 | 215 | 42 | 0.5537099 |\n",
       "| A1 | B1 | 500 | 10 | 215 | 42 | 0.5537099 |\n",
       "\n"
      ],
      "text/plain": [
       "  a  b  total_sim joint total_joint sim_group w        \n",
       "1 A1 B1 500       10    215         42        0.5537099\n",
       "2 A1 B1 500       10    215         42        0.5537099\n",
       "3 A1 B1 500       10    215         42        0.5537099\n",
       "4 A1 B1 500       10    215         42        0.5537099\n",
       "5 A1 B1 500       10    215         42        0.5537099\n",
       "6 A1 B1 500       10    215         42        0.5537099"
      ]
     },
     "metadata": {},
     "output_type": "display_data"
    }
   ],
   "source": [
    "head(dat)"
   ]
  },
  {
   "cell_type": "code",
   "execution_count": 18,
   "metadata": {
    "vscode": {
     "languageId": "r"
    }
   },
   "outputs": [
    {
     "name": "stdout",
     "output_type": "stream",
     "text": [
      "   B1    B2    B3 \n",
      "0.332 0.356 0.312 \n",
      "       B1        B2        B3 \n",
      "0.1720930 0.4139535 0.4139535 \n"
     ]
    }
   ],
   "source": [
    "print(wpct(dat$b))\n",
    "print(wpct(dat$b, dat$w))"
   ]
  },
  {
   "cell_type": "code",
   "execution_count": 19,
   "metadata": {
    "vscode": {
     "languageId": "r"
    }
   },
   "outputs": [
    {
     "data": {
      "image/png": "[encoded data removed]",
      "text/plain": [
       "Plot with title “Distribution of weights”"
      ]
     },
     "metadata": {
      "image/png": {
       "height": 420,
       "width": 420
      }
     },
     "output_type": "display_data"
    }
   ],
   "source": [
    "hist(dat$w, breaks=10, main='Distribution of weights', xlab='weights')"
   ]
  },
  {
   "cell_type": "code",
   "execution_count": 20,
   "metadata": {
    "vscode": {
     "languageId": "r"
    }
   },
   "outputs": [
    {
     "data": {
      "text/html": [
       "500.000000000002"
      ],
      "text/latex": [
       "500.000000000002"
      ],
      "text/markdown": [
       "500.000000000002"
      ],
      "text/plain": [
       "[1] 500"
      ]
     },
     "metadata": {},
     "output_type": "display_data"
    }
   ],
   "source": [
    "sum(dat$w)"
   ]
  },
  {
   "cell_type": "code",
   "execution_count": 21,
   "metadata": {
    "vscode": {
     "languageId": "r"
    }
   },
   "outputs": [
    {
     "data": {
      "text/html": [
       "15000"
      ],
      "text/latex": [
       "15000"
      ],
      "text/markdown": [
       "15000"
      ],
      "text/plain": [
       "[1] 15000"
      ]
     },
     "metadata": {},
     "output_type": "display_data"
    },
    {
     "data": {
      "text/html": [
       "500.000000000002"
      ],
      "text/latex": [
       "500.000000000002"
      ],
      "text/markdown": [
       "500.000000000002"
      ],
      "text/plain": [
       "[1] 500"
      ]
     },
     "metadata": {},
     "output_type": "display_data"
    }
   ],
   "source": [
    "# scaling weights \n",
    "dat[, w2 := w * 30]\n",
    "sum(dat$w2)\n",
    "dat[, w3 := w2 * nrow(dat)/sum(w2)]\n",
    "sum(dat$w3)"
   ]
  },
  {
   "cell_type": "code",
   "execution_count": 22,
   "metadata": {
    "vscode": {
     "languageId": "r"
    }
   },
   "outputs": [
    {
     "data": {
      "text/html": [
       "1.3840738176028"
      ],
      "text/latex": [
       "1.3840738176028"
      ],
      "text/markdown": [
       "1.3840738176028"
      ],
      "text/plain": [
       "[1] 1.384074"
      ]
     },
     "metadata": {},
     "output_type": "display_data"
    }
   ],
   "source": [
    "# weights design effect\n",
    "((sum(dat$w^2) / (sum(dat$w)) ^ 2) * nrow(dat)) "
   ]
  },
  {
   "cell_type": "code",
   "execution_count": 23,
   "metadata": {
    "vscode": {
     "languageId": "r"
    }
   },
   "outputs": [
    {
     "data": {
      "text/html": [
       "<table class=\"dataframe\">\n",
       "<caption>A data.table: 3 × 9</caption>\n",
       "<thead>\n",
       "\t<tr><th scope=col>a</th><th scope=col>b</th><th scope=col>total_sim</th><th scope=col>joint</th><th scope=col>total_joint</th><th scope=col>sim_group</th><th scope=col>w</th><th scope=col>w2</th><th scope=col>w3</th></tr>\n",
       "\t<tr><th scope=col>&lt;chr&gt;</th><th scope=col>&lt;chr&gt;</th><th scope=col>&lt;int&gt;</th><th scope=col>&lt;dbl&gt;</th><th scope=col>&lt;dbl&gt;</th><th scope=col>&lt;int&gt;</th><th scope=col>&lt;dbl&gt;</th><th scope=col>&lt;dbl&gt;</th><th scope=col>&lt;dbl&gt;</th></tr>\n",
       "</thead>\n",
       "<tbody>\n",
       "\t<tr><td>A2</td><td>B2</td><td>500</td><td>56</td><td>215</td><td>62</td><td>2.100525</td><td>63.01575</td><td>2.100525</td></tr>\n",
       "\t<tr><td>A2</td><td>B2</td><td>500</td><td>56</td><td>215</td><td>62</td><td>2.100525</td><td>63.01575</td><td>2.100525</td></tr>\n",
       "\t<tr><td>A2</td><td>B2</td><td>500</td><td>56</td><td>215</td><td>62</td><td>2.100525</td><td>63.01575</td><td>2.100525</td></tr>\n",
       "</tbody>\n",
       "</table>\n"
      ],
      "text/latex": [
       "A data.table: 3 × 9\n",
       "\\begin{tabular}{lllllllll}\n",
       " a & b & total\\_sim & joint & total\\_joint & sim\\_group & w & w2 & w3\\\\\n",
       " <chr> & <chr> & <int> & <dbl> & <dbl> & <int> & <dbl> & <dbl> & <dbl>\\\\\n",
       "\\hline\n",
       "\t A2 & B2 & 500 & 56 & 215 & 62 & 2.100525 & 63.01575 & 2.100525\\\\\n",
       "\t A2 & B2 & 500 & 56 & 215 & 62 & 2.100525 & 63.01575 & 2.100525\\\\\n",
       "\t A2 & B2 & 500 & 56 & 215 & 62 & 2.100525 & 63.01575 & 2.100525\\\\\n",
       "\\end{tabular}\n"
      ],
      "text/markdown": [
       "\n",
       "A data.table: 3 × 9\n",
       "\n",
       "| a &lt;chr&gt; | b &lt;chr&gt; | total_sim &lt;int&gt; | joint &lt;dbl&gt; | total_joint &lt;dbl&gt; | sim_group &lt;int&gt; | w &lt;dbl&gt; | w2 &lt;dbl&gt; | w3 &lt;dbl&gt; |\n",
       "|---|---|---|---|---|---|---|---|---|\n",
       "| A2 | B2 | 500 | 56 | 215 | 62 | 2.100525 | 63.01575 | 2.100525 |\n",
       "| A2 | B2 | 500 | 56 | 215 | 62 | 2.100525 | 63.01575 | 2.100525 |\n",
       "| A2 | B2 | 500 | 56 | 215 | 62 | 2.100525 | 63.01575 | 2.100525 |\n",
       "\n"
      ],
      "text/plain": [
       "  a  b  total_sim joint total_joint sim_group w        w2       w3      \n",
       "1 A2 B2 500       56    215         62        2.100525 63.01575 2.100525\n",
       "2 A2 B2 500       56    215         62        2.100525 63.01575 2.100525\n",
       "3 A2 B2 500       56    215         62        2.100525 63.01575 2.100525"
      ]
     },
     "metadata": {},
     "output_type": "display_data"
    }
   ],
   "source": [
    "# cells with big weights\n",
    "head(dat[w>2], 3)"
   ]
  },
  {
   "cell_type": "markdown",
   "metadata": {},
   "source": [
    "# Raking "
   ]
  },
  {
   "cell_type": "code",
   "execution_count": 24,
   "metadata": {
    "vscode": {
     "languageId": "r"
    }
   },
   "outputs": [],
   "source": [
    "# removes::install_github(\"sdaza/autumn-adjustments\", force=TRUE)\n",
    "library(autumn)"
   ]
  },
  {
   "cell_type": "code",
   "execution_count": 25,
   "metadata": {
    "vscode": {
     "languageId": "r"
    }
   },
   "outputs": [],
   "source": [
    "target = list(\n",
    "    a = c(A1 = 0.302, A2 = 0.474, A3 = 0.223), \n",
    "    b = c(B1 = 0.172, B2=0.413, B3=0.413)\n",
    ")\n",
    "target = normalize(target)"
   ]
  },
  {
   "cell_type": "code",
   "execution_count": 26,
   "metadata": {
    "vscode": {
     "languageId": "r"
    }
   },
   "outputs": [
    {
     "name": "stdout",
     "output_type": "stream",
     "text": [
      "  variable level prop_original prop_weighted    target error_original\n",
      "1        a    A1         0.282     0.3023023 0.3023023     0.02030230\n",
      "2        a    A2         0.336     0.4744745 0.4744745     0.13847447\n",
      "3        a    A3         0.382     0.2232232 0.2232232     0.15877678\n",
      "4        b    B1         0.332     0.1723447 0.1723447     0.15965531\n",
      "5        b    B2         0.356     0.4138277 0.4138277     0.05782766\n",
      "6        b    B3         0.312     0.4138277 0.4138277     0.10182766\n",
      "  error_weighted\n",
      "1   1.307898e-12\n",
      "2   4.956591e-13\n",
      "3   1.798922e-12\n",
      "4   2.331468e-15\n",
      "5   3.830269e-15\n",
      "6   6.106227e-16\n"
     ]
    }
   ],
   "source": [
    "result = harvest(dat, target)\n",
    "print(diagnose_weights(data=result, target=target, weights=result$weights))"
   ]
  },
  {
   "cell_type": "code",
   "execution_count": 27,
   "metadata": {
    "vscode": {
     "languageId": "r"
    }
   },
   "outputs": [
    {
     "data": {
      "image/png": "[encoded data removed]",
      "text/plain": [
       "Plot with title “Distribution raking weights”"
      ]
     },
     "metadata": {
      "image/png": {
       "height": 420,
       "width": 420
      }
     },
     "output_type": "display_data"
    }
   ],
   "source": [
    "hist(result$weights, main=\"Distribution raking weights\", xlab=\"weights\")"
   ]
  },
  {
   "cell_type": "code",
   "execution_count": 28,
   "metadata": {
    "vscode": {
     "languageId": "r"
    }
   },
   "outputs": [
    {
     "data": {
      "text/html": [
       "1.24083769065113"
      ],
      "text/latex": [
       "1.24083769065113"
      ],
      "text/markdown": [
       "1.24083769065113"
      ],
      "text/plain": [
       "[1] 1.240838"
      ]
     },
     "metadata": {},
     "output_type": "display_data"
    }
   ],
   "source": [
    "design_effect(result$weights)"
   ]
  },
  {
   "cell_type": "code",
   "execution_count": 29,
   "metadata": {
    "vscode": {
     "languageId": "r"
    }
   },
   "outputs": [
    {
     "data": {
      "text/html": [
       "402.953588343713"
      ],
      "text/latex": [
       "402.953588343713"
      ],
      "text/markdown": [
       "402.953588343713"
      ],
      "text/plain": [
       "[1] 402.9536"
      ]
     },
     "metadata": {},
     "output_type": "display_data"
    }
   ],
   "source": [
    "effective_sample_size(result$weights)"
   ]
  }
 ],
 "metadata": {
  "kernelspec": {
   "display_name": "R",
   "language": "R",
   "name": "ir"
  },
  "language_info": {
   "codemirror_mode": "r",
   "file_extension": ".r",
   "mimetype": "text/x-r-source",
   "name": "R",
   "pygments_lexer": "r",
   "version": "4.2.3"
  },
  "vscode": {
   "interpreter": {
    "hash": "c47c99c0ba498f13b7c1d74cd47886000c0a36d8154d5df6d5ea6732515bf25f"
   }
  }
 },
 "nbformat": 4,
 "nbformat_minor": 4
}
