{
 "cells": [
  {
   "cell_type": "markdown",
   "metadata": {},
   "source": [
    "# Final assignment"
   ]
  },
  {
   "cell_type": "code",
   "execution_count": 1,
   "metadata": {
    "vscode": {
     "languageId": "r"
    }
   },
   "outputs": [
    {
     "name": "stderr",
     "output_type": "stream",
     "text": [
      "Loading required package: grid\n",
      "\n",
      "Loading required package: Matrix\n",
      "\n",
      "Loading required package: survival\n",
      "\n",
      "\n",
      "Attaching package: 'survey'\n",
      "\n",
      "\n",
      "The following object is masked from 'package:graphics':\n",
      "\n",
      "    dotchart\n",
      "\n",
      "\n"
     ]
    }
   ],
   "source": [
    "library(data.table)\n",
    "library(survey)"
   ]
  },
  {
   "cell_type": "markdown",
   "metadata": {
    "vscode": {
     "languageId": "r"
    }
   },
   "source": [
    "# Drug use difference by gender"
   ]
  },
  {
   "cell_type": "code",
   "execution_count": 3,
   "metadata": {
    "vscode": {
     "languageId": "r"
    }
   },
   "outputs": [],
   "source": [
    "sdf = fread('school-data.csv')\n",
    "sdf[, f1 := length(unique(id_school)) / total_schools]\n",
    "sdf[, f2 := .N / total_students, id_school]"
   ]
  },
  {
   "cell_type": "code",
   "execution_count": 4,
   "metadata": {
    "vscode": {
     "languageId": "r"
    }
   },
   "outputs": [
    {
     "data": {
      "text/html": [
       "450"
      ],
      "text/latex": [
       "450"
      ],
      "text/markdown": [
       "450"
      ],
      "text/plain": [
       "[1] 450"
      ]
     },
     "metadata": {},
     "output_type": "display_data"
    }
   ],
   "source": [
    "length(unique(sdf$id_student))"
   ]
  },
  {
   "cell_type": "code",
   "execution_count": 5,
   "metadata": {
    "vscode": {
     "languageId": "r"
    }
   },
   "outputs": [
    {
     "data": {
      "text/plain": [
       "\n",
       "        0         1 \n",
       "0.6466667 0.3533333 "
      ]
     },
     "metadata": {},
     "output_type": "display_data"
    }
   ],
   "source": [
    "prop.table(table(sdf$drug))"
   ]
  },
  {
   "cell_type": "code",
   "execution_count": 6,
   "metadata": {
    "vscode": {
     "languageId": "r"
    }
   },
   "outputs": [
    {
     "data": {
      "text/html": [
       "70200.0000000003"
      ],
      "text/latex": [
       "70200.0000000003"
      ],
      "text/markdown": [
       "70200.0000000003"
      ],
      "text/plain": [
       "[1] 70200"
      ]
     },
     "metadata": {},
     "output_type": "display_data"
    }
   ],
   "source": [
    "sdf[, w := 1/(f1*f2)]\n",
    "sum(sdf$w)"
   ]
  },
  {
   "cell_type": "code",
   "execution_count": 9,
   "metadata": {
    "vscode": {
     "languageId": "r"
    }
   },
   "outputs": [],
   "source": [
    "library(survey)\n",
    "design = svydesign(id = ~ id_school, data = sdf, probs = ~f1+f2, fpc = ~total_schools)"
   ]
  },
  {
   "cell_type": "code",
   "execution_count": 10,
   "metadata": {
    "vscode": {
     "languageId": "r"
    }
   },
   "outputs": [
    {
     "data": {
      "text/plain": [
       "\n",
       "\tDesign-based t-test\n",
       "\n",
       "data:  drug ~ female\n",
       "t = -1.8033, df = 13, p-value = 0.09456\n",
       "alternative hypothesis: true difference in mean is not equal to 0\n",
       "95 percent confidence interval:\n",
       " -0.25805748  0.02324957\n",
       "sample estimates:\n",
       "difference in mean \n",
       "         -0.117404 \n"
      ]
     },
     "metadata": {},
     "output_type": "display_data"
    }
   ],
   "source": [
    "# t-test\n",
    "ttest_result = svyttest(drug ~ female, design)\n",
    "ttest_result"
   ]
  },
  {
   "cell_type": "code",
   "execution_count": 12,
   "metadata": {
    "vscode": {
     "languageId": "r"
    }
   },
   "outputs": [
    {
     "data": {
      "text/plain": [
       "\n",
       "\tDesign-based t-test\n",
       "\n",
       "data:  drug ~ female\n",
       "t = -2.3399, df = 448, p-value = 0.01973\n",
       "alternative hypothesis: true difference in mean is not equal to 0\n",
       "95 percent confidence interval:\n",
       " -0.21601016 -0.01879775\n",
       "sample estimates:\n",
       "difference in mean \n",
       "         -0.117404 \n"
      ]
     },
     "metadata": {},
     "output_type": "display_data"
    }
   ],
   "source": [
    "design2 = svydesign(id = ~ 1, data = sdf, probs = ~f1+f2)\n",
    "ttest_result = svyttest(drug ~ female, design2)\n",
    "ttest_result"
   ]
  },
  {
   "cell_type": "markdown",
   "metadata": {},
   "source": [
    "# PPS sampling"
   ]
  },
  {
   "cell_type": "code",
   "execution_count": 13,
   "metadata": {
    "vscode": {
     "languageId": "r"
    }
   },
   "outputs": [],
   "source": [
    "library(data.table)\n",
    "\n",
    "svalues = seq(6, 310, 61)\n",
    "block = 1:10\n",
    "units = c(32, 18, 48, 15, 37, 26, 12, 45, 46, 21)\n",
    "\n",
    "dat = data.table(block, units)\n",
    "\n",
    "dat[, units_cum := cumsum(units)]\n",
    "dat[, start := shift(units_cum, fill=0)]"
   ]
  },
  {
   "cell_type": "code",
   "execution_count": 14,
   "metadata": {
    "vscode": {
     "languageId": "r"
    }
   },
   "outputs": [
    {
     "data": {
      "text/html": [
       "<style>\n",
       ".list-inline {list-style: none; margin:0; padding: 0}\n",
       ".list-inline>li {display: inline-block}\n",
       ".list-inline>li:not(:last-child)::after {content: \"\\00b7\"; padding: 0 .5ex}\n",
       "</style>\n",
       "<ol class=list-inline><li>6</li><li>67</li><li>128</li><li>189</li><li>250</li></ol>\n"
      ],
      "text/latex": [
       "\\begin{enumerate*}\n",
       "\\item 6\n",
       "\\item 67\n",
       "\\item 128\n",
       "\\item 189\n",
       "\\item 250\n",
       "\\end{enumerate*}\n"
      ],
      "text/markdown": [
       "1. 6\n",
       "2. 67\n",
       "3. 128\n",
       "4. 189\n",
       "5. 250\n",
       "\n",
       "\n"
      ],
      "text/plain": [
       "[1]   6  67 128 189 250"
      ]
     },
     "metadata": {},
     "output_type": "display_data"
    }
   ],
   "source": [
    "svalues"
   ]
  },
  {
   "cell_type": "code",
   "execution_count": 15,
   "metadata": {
    "vscode": {
     "languageId": "r"
    }
   },
   "outputs": [
    {
     "data": {
      "text/html": [
       "<table class=\"dataframe\">\n",
       "<caption>A data.table: 10 x 4</caption>\n",
       "<thead>\n",
       "\t<tr><th scope=col>block</th><th scope=col>units</th><th scope=col>units_cum</th><th scope=col>start</th></tr>\n",
       "\t<tr><th scope=col>&lt;int&gt;</th><th scope=col>&lt;dbl&gt;</th><th scope=col>&lt;dbl&gt;</th><th scope=col>&lt;dbl&gt;</th></tr>\n",
       "</thead>\n",
       "<tbody>\n",
       "\t<tr><td> 1</td><td>32</td><td> 32</td><td>  0</td></tr>\n",
       "\t<tr><td> 2</td><td>18</td><td> 50</td><td> 32</td></tr>\n",
       "\t<tr><td> 3</td><td>48</td><td> 98</td><td> 50</td></tr>\n",
       "\t<tr><td> 4</td><td>15</td><td>113</td><td> 98</td></tr>\n",
       "\t<tr><td> 5</td><td>37</td><td>150</td><td>113</td></tr>\n",
       "\t<tr><td> 6</td><td>26</td><td>176</td><td>150</td></tr>\n",
       "\t<tr><td> 7</td><td>12</td><td>188</td><td>176</td></tr>\n",
       "\t<tr><td> 8</td><td>45</td><td>233</td><td>188</td></tr>\n",
       "\t<tr><td> 9</td><td>46</td><td>279</td><td>233</td></tr>\n",
       "\t<tr><td>10</td><td>21</td><td>300</td><td>279</td></tr>\n",
       "</tbody>\n",
       "</table>\n"
      ],
      "text/latex": [
       "A data.table: 10 x 4\n",
       "\\begin{tabular}{llll}\n",
       " block & units & units\\_cum & start\\\\\n",
       " <int> & <dbl> & <dbl> & <dbl>\\\\\n",
       "\\hline\n",
       "\t  1 & 32 &  32 &   0\\\\\n",
       "\t  2 & 18 &  50 &  32\\\\\n",
       "\t  3 & 48 &  98 &  50\\\\\n",
       "\t  4 & 15 & 113 &  98\\\\\n",
       "\t  5 & 37 & 150 & 113\\\\\n",
       "\t  6 & 26 & 176 & 150\\\\\n",
       "\t  7 & 12 & 188 & 176\\\\\n",
       "\t  8 & 45 & 233 & 188\\\\\n",
       "\t  9 & 46 & 279 & 233\\\\\n",
       "\t 10 & 21 & 300 & 279\\\\\n",
       "\\end{tabular}\n"
      ],
      "text/markdown": [
       "\n",
       "A data.table: 10 x 4\n",
       "\n",
       "| block &lt;int&gt; | units &lt;dbl&gt; | units_cum &lt;dbl&gt; | start &lt;dbl&gt; |\n",
       "|---|---|---|---|\n",
       "|  1 | 32 |  32 |   0 |\n",
       "|  2 | 18 |  50 |  32 |\n",
       "|  3 | 48 |  98 |  50 |\n",
       "|  4 | 15 | 113 |  98 |\n",
       "|  5 | 37 | 150 | 113 |\n",
       "|  6 | 26 | 176 | 150 |\n",
       "|  7 | 12 | 188 | 176 |\n",
       "|  8 | 45 | 233 | 188 |\n",
       "|  9 | 46 | 279 | 233 |\n",
       "| 10 | 21 | 300 | 279 |\n",
       "\n"
      ],
      "text/plain": [
       "   block units units_cum start\n",
       "1   1    32     32         0  \n",
       "2   2    18     50        32  \n",
       "3   3    48     98        50  \n",
       "4   4    15    113        98  \n",
       "5   5    37    150       113  \n",
       "6   6    26    176       150  \n",
       "7   7    12    188       176  \n",
       "8   8    45    233       188  \n",
       "9   9    46    279       233  \n",
       "10 10    21    300       279  "
      ]
     },
     "metadata": {},
     "output_type": "display_data"
    }
   ],
   "source": [
    "dat"
   ]
  },
  {
   "cell_type": "code",
   "execution_count": 359,
   "metadata": {
    "vscode": {
     "languageId": "r"
    }
   },
   "outputs": [
    {
     "data": {
      "text/html": [
       "<table class=\"dataframe\">\n",
       "<caption>A data.table: 5 x 4</caption>\n",
       "<thead>\n",
       "\t<tr><th scope=col>block</th><th scope=col>units</th><th scope=col>units_cum</th><th scope=col>start</th></tr>\n",
       "\t<tr><th scope=col>&lt;int&gt;</th><th scope=col>&lt;dbl&gt;</th><th scope=col>&lt;dbl&gt;</th><th scope=col>&lt;dbl&gt;</th></tr>\n",
       "</thead>\n",
       "<tbody>\n",
       "\t<tr><td>1</td><td>32</td><td> 32</td><td>  0</td></tr>\n",
       "\t<tr><td>3</td><td>48</td><td> 98</td><td> 50</td></tr>\n",
       "\t<tr><td>5</td><td>37</td><td>150</td><td>113</td></tr>\n",
       "\t<tr><td>8</td><td>45</td><td>233</td><td>188</td></tr>\n",
       "\t<tr><td>9</td><td>46</td><td>279</td><td>233</td></tr>\n",
       "</tbody>\n",
       "</table>\n"
      ],
      "text/latex": [
       "A data.table: 5 x 4\n",
       "\\begin{tabular}{llll}\n",
       " block & units & units\\_cum & start\\\\\n",
       " <int> & <dbl> & <dbl> & <dbl>\\\\\n",
       "\\hline\n",
       "\t 1 & 32 &  32 &   0\\\\\n",
       "\t 3 & 48 &  98 &  50\\\\\n",
       "\t 5 & 37 & 150 & 113\\\\\n",
       "\t 8 & 45 & 233 & 188\\\\\n",
       "\t 9 & 46 & 279 & 233\\\\\n",
       "\\end{tabular}\n"
      ],
      "text/markdown": [
       "\n",
       "A data.table: 5 x 4\n",
       "\n",
       "| block &lt;int&gt; | units &lt;dbl&gt; | units_cum &lt;dbl&gt; | start &lt;dbl&gt; |\n",
       "|---|---|---|---|\n",
       "| 1 | 32 |  32 |   0 |\n",
       "| 3 | 48 |  98 |  50 |\n",
       "| 5 | 37 | 150 | 113 |\n",
       "| 8 | 45 | 233 | 188 |\n",
       "| 9 | 46 | 279 | 233 |\n",
       "\n"
      ],
      "text/plain": [
       "  block units units_cum start\n",
       "1 1     32     32         0  \n",
       "2 3     48     98        50  \n",
       "3 5     37    150       113  \n",
       "4 8     45    233       188  \n",
       "5 9     46    279       233  "
      ]
     },
     "metadata": {},
     "output_type": "display_data"
    }
   ],
   "source": [
    "selected_blocks = sapply(svalues, function(x) {\n",
    "   dat[block == which(start < x & units_cum >= x), block]\n",
    "\n",
    "})\n",
    "\n",
    "sblocks = dat[block %in% selected_blocks]\n",
    "sblocks"
   ]
  }
 ],
 "metadata": {
  "kernelspec": {
   "display_name": "R",
   "language": "R",
   "name": "ir"
  },
  "language_info": {
   "codemirror_mode": "r",
   "file_extension": ".r",
   "mimetype": "text/x-r-source",
   "name": "R",
   "pygments_lexer": "r",
   "version": "4.3.2"
  }
 },
 "nbformat": 4,
 "nbformat_minor": 4
}
