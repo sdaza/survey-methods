{
 "cells": [
  {
   "cell_type": "markdown",
   "metadata": {
    "vscode": {
     "languageId": "r"
    }
   },
   "source": [
    "# Assigment 1, Question 3"
   ]
  },
  {
   "cell_type": "code",
   "execution_count": 7,
   "metadata": {
    "vscode": {
     "languageId": "r"
    }
   },
   "outputs": [],
   "source": [
    "library(sampler)\n",
    "library(data.table)"
   ]
  },
  {
   "cell_type": "code",
   "execution_count": 8,
   "metadata": {
    "vscode": {
     "languageId": "r"
    }
   },
   "outputs": [],
   "source": [
    "group = c(\"A\", \"B\", \"C\", \"D\")\n",
    "sizes = c(121, 536, 343, 2642)\n",
    "# estimate proportion\n",
    "p = c(0.83, 0.72, 0.51, 0.32)\n",
    "dat = data.table(type=group, N=sizes, p=p)"
   ]
  },
  {
   "attachments": {},
   "cell_type": "markdown",
   "metadata": {},
   "source": [
    "# Steps\n",
    "\n",
    "1. We start with proportional allocation, and estimate MOE for the whole sample and also for only group C. I used the `proportion engaged` as the best estimate of the proportion per strata to estimate MOE.\n",
    "2. We try another allocation, in the solution below, we increase the sample size of stratum C (to 100) to reduce C's MOE\n",
    "3. Finally, we compute the total MOE and C's MOE, and justify the decision\n",
    "   \n",
    "There is no unique/correct answer to this question. The goal of the exercise "
   ]
  },
  {
   "cell_type": "code",
   "execution_count": 9,
   "metadata": {
    "vscode": {
     "languageId": "r"
    }
   },
   "outputs": [
    {
     "name": "stdout",
     "output_type": "stream",
     "text": [
      "[1] \"Proportional MOE stratification (total estimate):0.0504\"\n",
      "[1] \"Proportional MOE group C: 0.1777\"\n",
      "[1] \"Fixed MOE stratification (total estimate):0.0567\"\n",
      "[1] \"Fixed MOE group C: 0.0826\"\n"
     ]
    }
   ],
   "source": [
    "# proportional assignment\n",
    "dat[, proportional := astrata(300, p=p, N=N)]\n",
    "\n",
    "print(paste0('Proportional MOE stratification (total estimate):', serrst(dat$proportional, dat$N, p=dat$p)))\n",
    "print(paste0('Proportional MOE group C: ', serr(dat[type=='C', proportional], N=343, p=dat[type=='C', p])))\n",
    "\n",
    "# increase sample of group C to 100, so we can run more analysis on that group (there is no correct answer here)\n",
    "dat[type!='C', fixed := astrata(300-100, p=p, N=N)]\n",
    "dat[type=='C', fixed := 100]\n",
    "\n",
    "print(paste0('Fixed MOE stratification (total estimate):', serrst(dat$fixed, dat$N, p=dat$p)))\n",
    "print(paste0('Fixed MOE group C: ', serr(dat[type=='C', fixed], N=343, p=dat[type=='C', p])))"
   ]
  },
  {
   "cell_type": "code",
   "execution_count": 10,
   "metadata": {
    "vscode": {
     "languageId": "r"
    }
   },
   "outputs": [],
   "source": [
    "# weights\n",
    "# proportional\n",
    "dat[, proportional_weight := 1/(proportional/N)]\n",
    "\n",
    "# fixed\n",
    "dat[, fixed_weight := 1/(fixed/N)]"
   ]
  },
  {
   "cell_type": "code",
   "execution_count": 11,
   "metadata": {
    "vscode": {
     "languageId": "r"
    }
   },
   "outputs": [
    {
     "data": {
      "text/html": [
       "3642"
      ],
      "text/latex": [
       "3642"
      ],
      "text/markdown": [
       "3642"
      ],
      "text/plain": [
       "[1] 3642"
      ]
     },
     "metadata": {},
     "output_type": "display_data"
    },
    {
     "data": {
      "text/html": [
       "3642"
      ],
      "text/latex": [
       "3642"
      ],
      "text/markdown": [
       "3642"
      ],
      "text/plain": [
       "[1] 3642"
      ]
     },
     "metadata": {},
     "output_type": "display_data"
    },
    {
     "data": {
      "text/html": [
       "3642"
      ],
      "text/latex": [
       "3642"
      ],
      "text/markdown": [
       "3642"
      ],
      "text/plain": [
       "[1] 3642"
      ]
     },
     "metadata": {},
     "output_type": "display_data"
    }
   ],
   "source": [
    "dat[, proportional_pop_estimate := proportional * proportional_weight]\n",
    "dat[, fixed_pop_estimate := fixed * fixed_weight]\n",
    "\n",
    "# checking weights\n",
    "sum(dat$proportional_pop_estimate)\n",
    "sum(dat$fixed_pop_estimate)\n",
    "sum(sizes)"
   ]
  },
  {
   "cell_type": "code",
   "execution_count": 12,
   "metadata": {
    "vscode": {
     "languageId": "r"
    }
   },
   "outputs": [
    {
     "data": {
      "text/html": [
       "<table class=\"dataframe\">\n",
       "<caption>A data.table: 4 x 9</caption>\n",
       "<thead>\n",
       "\t<tr><th scope=col>type</th><th scope=col>N</th><th scope=col>p</th><th scope=col>proportional</th><th scope=col>fixed</th><th scope=col>proportional_weight</th><th scope=col>fixed_weight</th><th scope=col>proportional_pop_estimate</th><th scope=col>fixed_pop_estimate</th></tr>\n",
       "\t<tr><th scope=col>&lt;chr&gt;</th><th scope=col>&lt;dbl&gt;</th><th scope=col>&lt;dbl&gt;</th><th scope=col>&lt;dbl&gt;</th><th scope=col>&lt;dbl&gt;</th><th scope=col>&lt;dbl&gt;</th><th scope=col>&lt;dbl&gt;</th><th scope=col>&lt;dbl&gt;</th><th scope=col>&lt;dbl&gt;</th></tr>\n",
       "</thead>\n",
       "<tbody>\n",
       "\t<tr><td>A</td><td> 121</td><td>0.83</td><td> 10</td><td>  7</td><td>12.10000</td><td>17.28571</td><td> 121</td><td> 121</td></tr>\n",
       "\t<tr><td>B</td><td> 536</td><td>0.72</td><td> 44</td><td> 32</td><td>12.18182</td><td>16.75000</td><td> 536</td><td> 536</td></tr>\n",
       "\t<tr><td>C</td><td> 343</td><td>0.51</td><td> 28</td><td>100</td><td>12.25000</td><td> 3.43000</td><td> 343</td><td> 343</td></tr>\n",
       "\t<tr><td>D</td><td>2642</td><td>0.32</td><td>218</td><td>160</td><td>12.11927</td><td>16.51250</td><td>2642</td><td>2642</td></tr>\n",
       "</tbody>\n",
       "</table>\n"
      ],
      "text/latex": [
       "A data.table: 4 x 9\n",
       "\\begin{tabular}{lllllllll}\n",
       " type & N & p & proportional & fixed & proportional\\_weight & fixed\\_weight & proportional\\_pop\\_estimate & fixed\\_pop\\_estimate\\\\\n",
       " <chr> & <dbl> & <dbl> & <dbl> & <dbl> & <dbl> & <dbl> & <dbl> & <dbl>\\\\\n",
       "\\hline\n",
       "\t A &  121 & 0.83 &  10 &   7 & 12.10000 & 17.28571 &  121 &  121\\\\\n",
       "\t B &  536 & 0.72 &  44 &  32 & 12.18182 & 16.75000 &  536 &  536\\\\\n",
       "\t C &  343 & 0.51 &  28 & 100 & 12.25000 &  3.43000 &  343 &  343\\\\\n",
       "\t D & 2642 & 0.32 & 218 & 160 & 12.11927 & 16.51250 & 2642 & 2642\\\\\n",
       "\\end{tabular}\n"
      ],
      "text/markdown": [
       "\n",
       "A data.table: 4 x 9\n",
       "\n",
       "| type &lt;chr&gt; | N &lt;dbl&gt; | p &lt;dbl&gt; | proportional &lt;dbl&gt; | fixed &lt;dbl&gt; | proportional_weight &lt;dbl&gt; | fixed_weight &lt;dbl&gt; | proportional_pop_estimate &lt;dbl&gt; | fixed_pop_estimate &lt;dbl&gt; |\n",
       "|---|---|---|---|---|---|---|---|---|\n",
       "| A |  121 | 0.83 |  10 |   7 | 12.10000 | 17.28571 |  121 |  121 |\n",
       "| B |  536 | 0.72 |  44 |  32 | 12.18182 | 16.75000 |  536 |  536 |\n",
       "| C |  343 | 0.51 |  28 | 100 | 12.25000 |  3.43000 |  343 |  343 |\n",
       "| D | 2642 | 0.32 | 218 | 160 | 12.11927 | 16.51250 | 2642 | 2642 |\n",
       "\n"
      ],
      "text/plain": [
       "  type N    p    proportional fixed proportional_weight fixed_weight\n",
       "1 A     121 0.83  10            7   12.10000            17.28571    \n",
       "2 B     536 0.72  44           32   12.18182            16.75000    \n",
       "3 C     343 0.51  28          100   12.25000             3.43000    \n",
       "4 D    2642 0.32 218          160   12.11927            16.51250    \n",
       "  proportional_pop_estimate fixed_pop_estimate\n",
       "1  121                       121              \n",
       "2  536                       536              \n",
       "3  343                       343              \n",
       "4 2642                      2642              "
      ]
     },
     "metadata": {},
     "output_type": "display_data"
    }
   ],
   "source": [
    "dat"
   ]
  }
 ],
 "metadata": {
  "kernelspec": {
   "display_name": "R",
   "language": "R",
   "name": "ir"
  },
  "language_info": {
   "codemirror_mode": "r",
   "file_extension": ".r",
   "mimetype": "text/x-r-source",
   "name": "R",
   "pygments_lexer": "r",
   "version": "4.3.2"
  },
  "orig_nbformat": 4
 },
 "nbformat": 4,
 "nbformat_minor": 2
}
