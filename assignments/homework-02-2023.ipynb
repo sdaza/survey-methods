{
 "cells": [
  {
   "cell_type": "markdown",
   "metadata": {
    "vscode": {
     "languageId": "r"
    }
   },
   "source": [
    "# Assigment 2, Question 2"
   ]
  },
  {
   "cell_type": "code",
   "execution_count": 1,
   "metadata": {
    "vscode": {
     "languageId": "r"
    }
   },
   "outputs": [
    {
     "name": "stderr",
     "output_type": "stream",
     "text": [
      "Loading required package: Hmisc\n",
      "\n",
      "\n",
      "Attaching package: 'Hmisc'\n",
      "\n",
      "\n",
      "The following objects are masked from 'package:base':\n",
      "\n",
      "    format.pval, units\n",
      "\n",
      "\n",
      "Loading required package: grid\n",
      "\n",
      "Loading required package: Matrix\n",
      "\n",
      "Loading required package: survival\n",
      "\n",
      "\n",
      "Attaching package: 'survey'\n",
      "\n",
      "\n",
      "The following object is masked from 'package:Hmisc':\n",
      "\n",
      "    deff\n",
      "\n",
      "\n",
      "The following object is masked from 'package:graphics':\n",
      "\n",
      "    dotchart\n",
      "\n",
      "\n"
     ]
    }
   ],
   "source": [
    "library(data.table)\n",
    "library(weights)\n",
    "library(autumn)\n",
    "library(survey)"
   ]
  },
  {
   "cell_type": "markdown",
   "metadata": {},
   "source": [
    "# Full joint adjustment"
   ]
  },
  {
   "cell_type": "code",
   "execution_count": 2,
   "metadata": {
    "vscode": {
     "languageId": "r"
    }
   },
   "outputs": [],
   "source": [
    "df = fread('survey_data.csv')"
   ]
  },
  {
   "cell_type": "code",
   "execution_count": 3,
   "metadata": {
    "vscode": {
     "languageId": "r"
    }
   },
   "outputs": [
    {
     "data": {
      "text/html": [
       "<table class=\"dataframe\">\n",
       "<caption>A data.table: 6 x 3</caption>\n",
       "<thead>\n",
       "\t<tr><th scope=col>gender</th><th scope=col>age_group</th><th scope=col>V1</th></tr>\n",
       "\t<tr><th scope=col>&lt;chr&gt;</th><th scope=col>&lt;chr&gt;</th><th scope=col>&lt;dbl&gt;</th></tr>\n",
       "</thead>\n",
       "<tbody>\n",
       "\t<tr><td>male  </td><td>18-30</td><td>0.24193548</td></tr>\n",
       "\t<tr><td>male  </td><td>31-50</td><td>0.18567639</td></tr>\n",
       "\t<tr><td>male  </td><td>51+  </td><td>0.08080808</td></tr>\n",
       "\t<tr><td>female</td><td>18-30</td><td>0.12668464</td></tr>\n",
       "\t<tr><td>female</td><td>31-50</td><td>0.05592105</td></tr>\n",
       "\t<tr><td>female</td><td>51+  </td><td>0.03526448</td></tr>\n",
       "</tbody>\n",
       "</table>\n"
      ],
      "text/latex": [
       "A data.table: 6 x 3\n",
       "\\begin{tabular}{lll}\n",
       " gender & age\\_group & V1\\\\\n",
       " <chr> & <chr> & <dbl>\\\\\n",
       "\\hline\n",
       "\t male   & 18-30 & 0.24193548\\\\\n",
       "\t male   & 31-50 & 0.18567639\\\\\n",
       "\t male   & 51+   & 0.08080808\\\\\n",
       "\t female & 18-30 & 0.12668464\\\\\n",
       "\t female & 31-50 & 0.05592105\\\\\n",
       "\t female & 51+   & 0.03526448\\\\\n",
       "\\end{tabular}\n"
      ],
      "text/markdown": [
       "\n",
       "A data.table: 6 x 3\n",
       "\n",
       "| gender &lt;chr&gt; | age_group &lt;chr&gt; | V1 &lt;dbl&gt; |\n",
       "|---|---|---|\n",
       "| male   | 18-30 | 0.24193548 |\n",
       "| male   | 31-50 | 0.18567639 |\n",
       "| male   | 51+   | 0.08080808 |\n",
       "| female | 18-30 | 0.12668464 |\n",
       "| female | 31-50 | 0.05592105 |\n",
       "| female | 51+   | 0.03526448 |\n",
       "\n"
      ],
      "text/plain": [
       "  gender age_group V1        \n",
       "1 male   18-30     0.24193548\n",
       "2 male   31-50     0.18567639\n",
       "3 male   51+       0.08080808\n",
       "4 female 18-30     0.12668464\n",
       "5 female 31-50     0.05592105\n",
       "6 female 51+       0.03526448"
      ]
     },
     "metadata": {},
     "output_type": "display_data"
    }
   ],
   "source": [
    "df[, mean(drug_use), .(gender, age_group)]"
   ]
  },
  {
   "cell_type": "code",
   "execution_count": 4,
   "metadata": {
    "vscode": {
     "languageId": "r"
    }
   },
   "outputs": [],
   "source": [
    "sample_counts = df[, .(group_counts=.N), .(gender, age_group)]\n",
    "sample_counts[, sample_prop := group_counts/sum(group_counts)]"
   ]
  },
  {
   "cell_type": "code",
   "execution_count": 5,
   "metadata": {
    "vscode": {
     "languageId": "r"
    }
   },
   "outputs": [],
   "source": [
    "# census distribution\n",
    "proportions = c(0.1589, 0.2119, 0.1094, 0.1682, 0.2310, 0.1206)\n",
    "gender = c(rep(\"male\", 3), rep(\"female\", 3))\n",
    "age_group = rep(c(\"18-30\", \"31-50\", \"51+\"), 2)\n",
    "\n",
    "# Create the data frame\n",
    "census = data.table(gender = gender, age_group = age_group, census_proportion = proportions)\n"
   ]
  },
  {
   "cell_type": "code",
   "execution_count": 6,
   "metadata": {
    "vscode": {
     "languageId": "r"
    }
   },
   "outputs": [],
   "source": [
    "tab = merge(sample_counts, census, by=c('gender', 'age_group'))\n",
    "tab[, weights := census_proportion/sample_prop]\n",
    "df = merge(df, tab[, .(gender, age_group, weights)])"
   ]
  },
  {
   "cell_type": "code",
   "execution_count": 7,
   "metadata": {
    "vscode": {
     "languageId": "r"
    }
   },
   "outputs": [
    {
     "data": {
      "text/plain": [
       "   Min. 1st Qu.  Median    Mean 3rd Qu.    Max. \n",
       " 0.6379  0.7979  0.9521  1.0000  1.1803  2.3206 "
      ]
     },
     "metadata": {},
     "output_type": "display_data"
    }
   ],
   "source": [
    "summary(df$weights)"
   ]
  },
  {
   "cell_type": "code",
   "execution_count": 8,
   "metadata": {
    "vscode": {
     "languageId": "r"
    }
   },
   "outputs": [
    {
     "data": {
      "text/html": [
       "<table class=\"dataframe\">\n",
       "<caption>A data.table: 6 x 4</caption>\n",
       "<thead>\n",
       "\t<tr><th scope=col>gender</th><th scope=col>age_group</th><th scope=col>group</th><th scope=col>prop</th></tr>\n",
       "\t<tr><th scope=col>&lt;chr&gt;</th><th scope=col>&lt;chr&gt;</th><th scope=col>&lt;dbl&gt;</th><th scope=col>&lt;dbl&gt;</th></tr>\n",
       "</thead>\n",
       "<tbody>\n",
       "\t<tr><td>female</td><td>18-30</td><td>353.22</td><td>0.1682</td></tr>\n",
       "\t<tr><td>female</td><td>31-50</td><td>485.10</td><td>0.2310</td></tr>\n",
       "\t<tr><td>female</td><td>51+  </td><td>253.26</td><td>0.1206</td></tr>\n",
       "\t<tr><td>male  </td><td>18-30</td><td>333.69</td><td>0.1589</td></tr>\n",
       "\t<tr><td>male  </td><td>31-50</td><td>444.99</td><td>0.2119</td></tr>\n",
       "\t<tr><td>male  </td><td>51+  </td><td>229.74</td><td>0.1094</td></tr>\n",
       "</tbody>\n",
       "</table>\n"
      ],
      "text/latex": [
       "A data.table: 6 x 4\n",
       "\\begin{tabular}{llll}\n",
       " gender & age\\_group & group & prop\\\\\n",
       " <chr> & <chr> & <dbl> & <dbl>\\\\\n",
       "\\hline\n",
       "\t female & 18-30 & 353.22 & 0.1682\\\\\n",
       "\t female & 31-50 & 485.10 & 0.2310\\\\\n",
       "\t female & 51+   & 253.26 & 0.1206\\\\\n",
       "\t male   & 18-30 & 333.69 & 0.1589\\\\\n",
       "\t male   & 31-50 & 444.99 & 0.2119\\\\\n",
       "\t male   & 51+   & 229.74 & 0.1094\\\\\n",
       "\\end{tabular}\n"
      ],
      "text/markdown": [
       "\n",
       "A data.table: 6 x 4\n",
       "\n",
       "| gender &lt;chr&gt; | age_group &lt;chr&gt; | group &lt;dbl&gt; | prop &lt;dbl&gt; |\n",
       "|---|---|---|---|\n",
       "| female | 18-30 | 353.22 | 0.1682 |\n",
       "| female | 31-50 | 485.10 | 0.2310 |\n",
       "| female | 51+   | 253.26 | 0.1206 |\n",
       "| male   | 18-30 | 333.69 | 0.1589 |\n",
       "| male   | 31-50 | 444.99 | 0.2119 |\n",
       "| male   | 51+   | 229.74 | 0.1094 |\n",
       "\n"
      ],
      "text/plain": [
       "  gender age_group group  prop  \n",
       "1 female 18-30     353.22 0.1682\n",
       "2 female 31-50     485.10 0.2310\n",
       "3 female 51+       253.26 0.1206\n",
       "4 male   18-30     333.69 0.1589\n",
       "5 male   31-50     444.99 0.2119\n",
       "6 male   51+       229.74 0.1094"
      ]
     },
     "metadata": {},
     "output_type": "display_data"
    }
   ],
   "source": [
    "# checking the distribution\n",
    "test = df[, .(group = sum(weights)), .(gender, age_group)]\n",
    "test[, prop := group / sum(group)]\n",
    "test"
   ]
  },
  {
   "cell_type": "code",
   "execution_count": 9,
   "metadata": {
    "vscode": {
     "languageId": "r"
    }
   },
   "outputs": [
    {
     "name": "stderr",
     "output_type": "stream",
     "text": [
      "Warning message in svydesign.default(ids = ~1, data = df):\n",
      "\"No weights or probabilities supplied, assuming equal probability\"\n"
     ]
    },
    {
     "name": "stdout",
     "output_type": "stream",
     "text": [
      "            mean     SE\n",
      "drug_use 0.11095 0.0069\n"
     ]
    },
    {
     "data": {
      "text/html": [
       "<table class=\"dataframe\">\n",
       "<caption>A matrix: 1 x 2 of type dbl</caption>\n",
       "<thead>\n",
       "\t<tr><th></th><th scope=col>2.5 %</th><th scope=col>97.5 %</th></tr>\n",
       "</thead>\n",
       "<tbody>\n",
       "\t<tr><th scope=row>drug_use</th><td>0.0975163</td><td>0.1243885</td></tr>\n",
       "</tbody>\n",
       "</table>\n"
      ],
      "text/latex": [
       "A matrix: 1 x 2 of type dbl\n",
       "\\begin{tabular}{r|ll}\n",
       "  & 2.5 \\% & 97.5 \\%\\\\\n",
       "\\hline\n",
       "\tdrug\\_use & 0.0975163 & 0.1243885\\\\\n",
       "\\end{tabular}\n"
      ],
      "text/markdown": [
       "\n",
       "A matrix: 1 x 2 of type dbl\n",
       "\n",
       "| <!--/--> | 2.5 % | 97.5 % |\n",
       "|---|---|---|\n",
       "| drug_use | 0.0975163 | 0.1243885 |\n",
       "\n"
      ],
      "text/plain": [
       "         2.5 %     97.5 %   \n",
       "drug_use 0.0975163 0.1243885"
      ]
     },
     "metadata": {},
     "output_type": "display_data"
    }
   ],
   "source": [
    "# estimate without weights\n",
    "ds = svydesign(ids=~1,data=df)\n",
    "sm = svymean(~drug_use, ds)\n",
    "print(sm)\n",
    "confint(sm)"
   ]
  },
  {
   "cell_type": "code",
   "execution_count": 10,
   "metadata": {
    "vscode": {
     "languageId": "r"
    }
   },
   "outputs": [
    {
     "name": "stdout",
     "output_type": "stream",
     "text": [
      "            mean     SE\n",
      "drug_use 0.12511 0.0079\n"
     ]
    },
    {
     "data": {
      "text/html": [
       "<table class=\"dataframe\">\n",
       "<caption>A matrix: 1 x 2 of type dbl</caption>\n",
       "<thead>\n",
       "\t<tr><th></th><th scope=col>2.5 %</th><th scope=col>97.5 %</th></tr>\n",
       "</thead>\n",
       "<tbody>\n",
       "\t<tr><th scope=row>drug_use</th><td>0.1095774</td><td>0.1406382</td></tr>\n",
       "</tbody>\n",
       "</table>\n"
      ],
      "text/latex": [
       "A matrix: 1 x 2 of type dbl\n",
       "\\begin{tabular}{r|ll}\n",
       "  & 2.5 \\% & 97.5 \\%\\\\\n",
       "\\hline\n",
       "\tdrug\\_use & 0.1095774 & 0.1406382\\\\\n",
       "\\end{tabular}\n"
      ],
      "text/markdown": [
       "\n",
       "A matrix: 1 x 2 of type dbl\n",
       "\n",
       "| <!--/--> | 2.5 % | 97.5 % |\n",
       "|---|---|---|\n",
       "| drug_use | 0.1095774 | 0.1406382 |\n",
       "\n"
      ],
      "text/plain": [
       "         2.5 %     97.5 %   \n",
       "drug_use 0.1095774 0.1406382"
      ]
     },
     "metadata": {},
     "output_type": "display_data"
    }
   ],
   "source": [
    "# joint adjustment\n",
    "ds = svydesign(ids=~1,data=df, weights=~weights)\n",
    "sm = svymean(~drug_use, ds)\n",
    "print(sm)\n",
    "confint(sm)\n"
   ]
  },
  {
   "cell_type": "code",
   "execution_count": 11,
   "metadata": {
    "vscode": {
     "languageId": "r"
    }
   },
   "outputs": [
    {
     "data": {
      "text/html": [
       "1.13917324797982"
      ],
      "text/latex": [
       "1.13917324797982"
      ],
      "text/markdown": [
       "1.13917324797982"
      ],
      "text/plain": [
       "[1] 1.139173"
      ]
     },
     "metadata": {},
     "output_type": "display_data"
    }
   ],
   "source": [
    "design_effect(df$weights)"
   ]
  },
  {
   "cell_type": "markdown",
   "metadata": {},
   "source": [
    "# Raking"
   ]
  },
  {
   "cell_type": "code",
   "execution_count": 12,
   "metadata": {
    "vscode": {
     "languageId": "r"
    }
   },
   "outputs": [
    {
     "data": {
      "text/html": [
       "<table class=\"dataframe\">\n",
       "<caption>A data.frame: 5 x 7</caption>\n",
       "<thead>\n",
       "\t<tr><th scope=col>variable</th><th scope=col>level</th><th scope=col>prop_original</th><th scope=col>prop_weighted</th><th scope=col>target</th><th scope=col>error_original</th><th scope=col>error_weighted</th></tr>\n",
       "\t<tr><th scope=col>&lt;chr&gt;</th><th scope=col>&lt;chr&gt;</th><th scope=col>&lt;dbl&gt;</th><th scope=col>&lt;dbl&gt;</th><th scope=col>&lt;dbl&gt;</th><th scope=col>&lt;dbl&gt;</th><th scope=col>&lt;dbl&gt;</th></tr>\n",
       "</thead>\n",
       "<tbody>\n",
       "\t<tr><td>gender   </td><td>male  </td><td>0.3447619</td><td>0.4802</td><td>0.4802</td><td>0.135438095</td><td>6.071699e-12</td></tr>\n",
       "\t<tr><td>gender   </td><td>female</td><td>0.6552381</td><td>0.5198</td><td>0.5198</td><td>0.135438095</td><td>6.067924e-12</td></tr>\n",
       "\t<tr><td>age_group</td><td>18-30 </td><td>0.2947619</td><td>0.3271</td><td>0.3271</td><td>0.032338095</td><td>2.275957e-15</td></tr>\n",
       "\t<tr><td>age_group</td><td>31-50 </td><td>0.4690476</td><td>0.4429</td><td>0.4429</td><td>0.026147619</td><td>1.249001e-14</td></tr>\n",
       "\t<tr><td>age_group</td><td>51+   </td><td>0.2361905</td><td>0.2300</td><td>0.2300</td><td>0.006190476</td><td>2.581269e-15</td></tr>\n",
       "</tbody>\n",
       "</table>\n"
      ],
      "text/latex": [
       "A data.frame: 5 x 7\n",
       "\\begin{tabular}{lllllll}\n",
       " variable & level & prop\\_original & prop\\_weighted & target & error\\_original & error\\_weighted\\\\\n",
       " <chr> & <chr> & <dbl> & <dbl> & <dbl> & <dbl> & <dbl>\\\\\n",
       "\\hline\n",
       "\t gender    & male   & 0.3447619 & 0.4802 & 0.4802 & 0.135438095 & 6.071699e-12\\\\\n",
       "\t gender    & female & 0.6552381 & 0.5198 & 0.5198 & 0.135438095 & 6.067924e-12\\\\\n",
       "\t age\\_group & 18-30  & 0.2947619 & 0.3271 & 0.3271 & 0.032338095 & 2.275957e-15\\\\\n",
       "\t age\\_group & 31-50  & 0.4690476 & 0.4429 & 0.4429 & 0.026147619 & 1.249001e-14\\\\\n",
       "\t age\\_group & 51+    & 0.2361905 & 0.2300 & 0.2300 & 0.006190476 & 2.581269e-15\\\\\n",
       "\\end{tabular}\n"
      ],
      "text/markdown": [
       "\n",
       "A data.frame: 5 x 7\n",
       "\n",
       "| variable &lt;chr&gt; | level &lt;chr&gt; | prop_original &lt;dbl&gt; | prop_weighted &lt;dbl&gt; | target &lt;dbl&gt; | error_original &lt;dbl&gt; | error_weighted &lt;dbl&gt; |\n",
       "|---|---|---|---|---|---|---|\n",
       "| gender    | male   | 0.3447619 | 0.4802 | 0.4802 | 0.135438095 | 6.071699e-12 |\n",
       "| gender    | female | 0.6552381 | 0.5198 | 0.5198 | 0.135438095 | 6.067924e-12 |\n",
       "| age_group | 18-30  | 0.2947619 | 0.3271 | 0.3271 | 0.032338095 | 2.275957e-15 |\n",
       "| age_group | 31-50  | 0.4690476 | 0.4429 | 0.4429 | 0.026147619 | 1.249001e-14 |\n",
       "| age_group | 51+    | 0.2361905 | 0.2300 | 0.2300 | 0.006190476 | 2.581269e-15 |\n",
       "\n"
      ],
      "text/plain": [
       "  variable  level  prop_original prop_weighted target error_original\n",
       "1 gender    male   0.3447619     0.4802        0.4802 0.135438095   \n",
       "2 gender    female 0.6552381     0.5198        0.5198 0.135438095   \n",
       "3 age_group 18-30  0.2947619     0.3271        0.3271 0.032338095   \n",
       "4 age_group 31-50  0.4690476     0.4429        0.4429 0.026147619   \n",
       "5 age_group 51+    0.2361905     0.2300        0.2300 0.006190476   \n",
       "  error_weighted\n",
       "1 6.071699e-12  \n",
       "2 6.067924e-12  \n",
       "3 2.275957e-15  \n",
       "4 1.249001e-14  \n",
       "5 2.581269e-15  "
      ]
     },
     "metadata": {},
     "output_type": "display_data"
    }
   ],
   "source": [
    "target = list(\n",
    "    gender = c('male'=0.4802, 'female'=0.5198), \n",
    "    age_group = c('18-30'=0.3271, '31-50'=0.4429, '51+'=0.23)\n",
    ")\n",
    "target = normalize(target)\n",
    "\n",
    "df = harvest(df, target, weight_column = 'rake_weights')\n",
    "diagnose_weights(df, target, df$rake_weights)"
   ]
  },
  {
   "cell_type": "code",
   "execution_count": 13,
   "metadata": {
    "vscode": {
     "languageId": "r"
    }
   },
   "outputs": [
    {
     "data": {
      "text/html": [
       "1.08715529038776"
      ],
      "text/latex": [
       "1.08715529038776"
      ],
      "text/markdown": [
       "1.08715529038776"
      ],
      "text/plain": [
       "[1] 1.087155"
      ]
     },
     "metadata": {},
     "output_type": "display_data"
    }
   ],
   "source": [
    "design_effect(df$rake_weights)"
   ]
  },
  {
   "cell_type": "code",
   "execution_count": 14,
   "metadata": {
    "vscode": {
     "languageId": "r"
    }
   },
   "outputs": [
    {
     "data": {
      "text/plain": [
       "   Min. 1st Qu.  Median    Mean 3rd Qu.    Max. \n",
       " 0.7281  0.7281  0.8466  1.0000  1.2928  1.5032 "
      ]
     },
     "metadata": {},
     "output_type": "display_data"
    }
   ],
   "source": [
    "summary(df$rake_weights)"
   ]
  },
  {
   "cell_type": "code",
   "execution_count": 15,
   "metadata": {
    "vscode": {
     "languageId": "r"
    }
   },
   "outputs": [
    {
     "name": "stdout",
     "output_type": "stream",
     "text": [
      "            mean    SE\n",
      "drug_use 0.12811 0.008\n"
     ]
    },
    {
     "data": {
      "text/html": [
       "<table class=\"dataframe\">\n",
       "<caption>A matrix: 1 x 2 of type dbl</caption>\n",
       "<thead>\n",
       "\t<tr><th></th><th scope=col>2.5 %</th><th scope=col>97.5 %</th></tr>\n",
       "</thead>\n",
       "<tbody>\n",
       "\t<tr><th scope=row>drug_use</th><td>0.1123591</td><td>0.1438537</td></tr>\n",
       "</tbody>\n",
       "</table>\n"
      ],
      "text/latex": [
       "A matrix: 1 x 2 of type dbl\n",
       "\\begin{tabular}{r|ll}\n",
       "  & 2.5 \\% & 97.5 \\%\\\\\n",
       "\\hline\n",
       "\tdrug\\_use & 0.1123591 & 0.1438537\\\\\n",
       "\\end{tabular}\n"
      ],
      "text/markdown": [
       "\n",
       "A matrix: 1 x 2 of type dbl\n",
       "\n",
       "| <!--/--> | 2.5 % | 97.5 % |\n",
       "|---|---|---|\n",
       "| drug_use | 0.1123591 | 0.1438537 |\n",
       "\n"
      ],
      "text/plain": [
       "         2.5 %     97.5 %   \n",
       "drug_use 0.1123591 0.1438537"
      ]
     },
     "metadata": {},
     "output_type": "display_data"
    }
   ],
   "source": [
    "ds = svydesign(ids=~1, data=df, weights=~rake_weights)\n",
    "sm = svymean(~drug_use, ds)\n",
    "print(sm)\n",
    "confint(sm)"
   ]
  },
  {
   "cell_type": "markdown",
   "metadata": {
    "vscode": {
     "languageId": "r"
    }
   },
   "source": [
    "# Which solution is better?\n",
    "\n",
    "The joint adjustment results in a higher \"deff\" and more extreme weights. However, if drug use is influenced by the interaction between gender and age, the estimate may be slightly less biased compared to the raking estimate (although slightly less precise). The raking procedure yields lower deff (less extreme weights), but we may lose some information. If we have access to the joint distribution (which is not always the case), we can use it to make slight adjustments to the weights (trimming them to reduce their extremeness) in order to improve the design effect."
   ]
  }
 ],
 "metadata": {
  "kernelspec": {
   "display_name": "R",
   "language": "R",
   "name": "ir"
  },
  "language_info": {
   "codemirror_mode": "r",
   "file_extension": ".r",
   "mimetype": "text/x-r-source",
   "name": "R",
   "pygments_lexer": "r",
   "version": "4.3.2"
  },
  "orig_nbformat": 4
 },
 "nbformat": 4,
 "nbformat_minor": 2
}
